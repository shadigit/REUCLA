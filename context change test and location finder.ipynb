{
 "cells": [
  {
   "cell_type": "code",
   "execution_count": 126,
   "metadata": {},
   "outputs": [
    {
     "name": "stdout",
     "output_type": "stream",
     "text": [
      "Requirement already satisfied: sentencepiece in /anaconda3/lib/python3.6/site-packages (0.1.6)\r\n"
     ]
    }
   ],
   "source": [
    "import sys\n",
    "!python -m pip install sentencepiece"
   ]
  },
  {
   "cell_type": "code",
   "execution_count": 8,
   "metadata": {
    "colab": {
     "autoexec": {
      "startup": false,
      "wait_interval": 0
     }
    },
    "colab_type": "code",
    "id": "dMTa6V4a-cmf"
   },
   "outputs": [],
   "source": [
    "import tensorflow as tf\n",
    "import tensorflow_hub as hub\n",
    "import sentencepiece as spm\n",
    "import matplotlib.pyplot as plt\n",
    "import numpy as np\n",
    "import os\n",
    "import pandas as pd\n",
    "import re\n",
    "import seaborn as sns"
   ]
  },
  {
   "cell_type": "markdown",
   "metadata": {
    "colab_type": "text",
    "id": "WPXYQDBiFJHd"
   },
   "source": [
    "## Load the module from TF-Hub"
   ]
  },
  {
   "cell_type": "code",
   "execution_count": 9,
   "metadata": {
    "colab": {
     "autoexec": {
      "startup": false,
      "wait_interval": 0
     }
    },
    "colab_type": "code",
    "id": "HEWUT-lmAkxM"
   },
   "outputs": [],
   "source": [
    "module = hub.Module(\"https://tfhub.dev/google/universal-sentence-encoder-lite/2\")"
   ]
  },
  {
   "cell_type": "code",
   "execution_count": 10,
   "metadata": {
    "colab": {
     "autoexec": {
      "startup": false,
      "wait_interval": 0
     }
    },
    "colab_type": "code",
    "id": "5277Z-9qARYF"
   },
   "outputs": [],
   "source": [
    "input_placeholder = tf.sparse_placeholder(tf.int64, shape=[None, None])\n",
    "encodings = module(\n",
    "    inputs=dict(\n",
    "        values=input_placeholder.values,\n",
    "        indices=input_placeholder.indices,\n",
    "        dense_shape=input_placeholder.dense_shape))"
   ]
  },
  {
   "cell_type": "code",
   "execution_count": 11,
   "metadata": {
    "colab": {
     "autoexec": {
      "startup": false,
      "wait_interval": 0
     }
    },
    "colab_type": "code",
    "id": "2CyUjKzE_tcJ"
   },
   "outputs": [
    {
     "name": "stdout",
     "output_type": "stream",
     "text": [
      "SentencePiece model loaded at /var/folders/ln/vmp0v5ps277_b7pymr9bpdb40000gn/T/tfhub_modules/539544f0a997d91c327c23285ea00c37588d92cc/assets/universal_encoder_8k_spm.model.\n"
     ]
    }
   ],
   "source": [
    "with tf.Session() as sess:\n",
    "    spm_path = sess.run(module(signature=\"spm_path\"))\n",
    "\n",
    "sp = spm.SentencePieceProcessor()\n",
    "sp.Load(spm_path)\n",
    "print(\"SentencePiece model loaded at {}.\".format(spm_path))"
   ]
  },
  {
   "cell_type": "code",
   "execution_count": 12,
   "metadata": {
    "colab": {
     "autoexec": {
      "startup": false,
      "wait_interval": 0
     }
    },
    "colab_type": "code",
    "id": "6y5kkN-l-5QV"
   },
   "outputs": [],
   "source": [
    "def process_to_IDs_in_sparse_format(sp, sentences):\n",
    "  # An utility method that processes sentences with the sentence piece processor\n",
    "  # 'sp' and returns the results in tf.SparseTensor-similar format:\n",
    "  # (values, indices, dense_shape)\n",
    "  ids = [sp.EncodeAsIds(x) for x in sentences]\n",
    "  max_len = max(len(x) for x in ids)\n",
    "  dense_shape=(len(ids), max_len)\n",
    "  values=[item for sublist in ids for item in sublist]\n",
    "  indices=[[row,col] for row in range(len(ids)) for col in range(len(ids[row]))]\n",
    "  return (values, indices, dense_shape)"
   ]
  },
  {
   "cell_type": "markdown",
   "metadata": {
    "colab_type": "text",
    "id": "PVpHEWrPAdxR"
   },
   "source": [
    "### Test the module with a few examples"
   ]
  },
  {
   "cell_type": "code",
   "execution_count": 105,
   "metadata": {},
   "outputs": [
    {
     "name": "stdout",
     "output_type": "stream",
     "text": [
      "17\n"
     ]
    }
   ],
   "source": [
    "sample=\"I was in a car with my mother up near the Plantageants' house. There was some kind of problem with the car, and I could hear a noise that was not quite normal. The wife was driving, and told me to turn the key in the ignition backward and that should fix the problem. Then, probably not as a direct result of turning the key, the car went flying off the side of the road staying on its wheels and managing not to hit anything, coming very close to driving into a pond. This next scene seems like it took place in about the same place. I think I have built a saddle for my pony, and I need help, maybe getting the saddle on. I'm in somebody's yard, apparently someone who has a lot of horses and animals of their own. The owners are a Ukrainian woman and her husband, as I soon learn. She does not want to come and look at my pony to answer the question. She says to me, If you consider selling it to me, I'll have to come and look at it, so I told her I would consider it. The next thing I remember, I am in the woman's house with a guinea pig. She tells me that people in certain parts of the world eat guinea pigs. She said that with such calmness and matter. of. factness I supposed she would not be one to blink her eyes if she saw someone trying to put a poor animal on the frying pan. Actually, I would not really have been surprised if guinea pig was her favorite meal. I obviously did not let her get close to my pig.\"\n",
    "from nltk import sent_tokenize\n",
    "sents= sent_tokenize(sample)\n",
    "print len(sents)"
   ]
  },
  {
   "cell_type": "code",
   "execution_count": 90,
   "metadata": {},
   "outputs": [
    {
     "data": {
      "text/plain": [
       "['Heard a mother talking to a child.',\n",
       " 'She came with a two year old.',\n",
       " 'I asked him about his bath and showed him my large doll with very long clothes.',\n",
       " 'Turned up its skirts so he could see its feet.',\n",
       " 'He was playing with toys about the large room.',\n",
       " 'I suggest him building a block track for his train.',\n",
       " 'He goes to get the long blocks to build the track.']"
      ]
     },
     "execution_count": 90,
     "metadata": {},
     "output_type": "execute_result"
    }
   ],
   "source": [
    "sents"
   ]
  },
  {
   "cell_type": "code",
   "execution_count": 7,
   "metadata": {
    "colab": {
     "autoexec": {
      "startup": false,
      "wait_interval": 0
     }
    },
    "colab_type": "code",
    "id": "OIQudHgWBGSk"
   },
   "outputs": [],
   "source": [
    "def plot_similarity(labels, features, rotation):\n",
    "    corr = np.inner(features, features)\n",
    "    sns.set(font_scale=1.2)\n",
    "    g = sns.heatmap(\n",
    "      corr,\n",
    "      xticklabels=labels,\n",
    "      yticklabels=labels,\n",
    "      vmin=0,\n",
    "      vmax=1,\n",
    "      cmap=\"YlOrRd\")\n",
    "    g.set_xticklabels(labels, rotation=rotation)\n",
    "    g.set_title(\"Semantic Textual Similarity\")\n",
    "\n",
    "\n",
    "def run_and_plot(session, input_placeholder, messages):\n",
    "    values, indices, dense_shape = process_to_IDs_in_sparse_format(sp,messages)\n",
    "\n",
    "    message_embeddings = session.run(\n",
    "      encodings,\n",
    "      feed_dict={input_placeholder.values: values,\n",
    "                input_placeholder.indices: indices,\n",
    "                input_placeholder.dense_shape: dense_shape})\n",
    "  \n",
    "    plot_similarity(messages, message_embeddings, 90)"
   ]
  },
  {
   "cell_type": "code",
   "execution_count": 109,
   "metadata": {},
   "outputs": [],
   "source": [
    "n=len(message_embeddings)\n",
    "for i in range(n-1):\n",
    "    message_embeddings=np.append(message_embeddings,[(message_embeddings[i]+message_embeddings[i+1])/2],axis=0)\n",
    "for i in range(n-2):\n",
    "    message_embeddings=np.append(message_embeddings,[(message_embeddings[i]+message_embeddings[i+1]+message_embeddings[i+2])/3],axis=0)                           "
   ]
  },
  {
   "cell_type": "code",
   "execution_count": 110,
   "metadata": {},
   "outputs": [
    {
     "data": {
      "text/plain": [
       "[<matplotlib.lines.Line2D at 0x1a29b12b10>]"
      ]
     },
     "execution_count": 110,
     "metadata": {},
     "output_type": "execute_result"
    },
    {
     "data": {
      "image/png": "[encoded data removed]",
      "text/plain": [
       "<matplotlib.figure.Figure at 0x1a3d49e850>"
      ]
     },
     "metadata": {},
     "output_type": "display_data"
    }
   ],
   "source": [
    "corre=[]\n",
    "# print sents\n",
    "for i in range(n-2):\n",
    "    corre.append(np.inner(message_embeddings[i+n],message_embeddings[i+1+n]))\n",
    "plt.plot(corre,'o-')\n"
   ]
  },
  {
   "cell_type": "code",
   "execution_count": 95,
   "metadata": {},
   "outputs": [
    {
     "data": {
      "text/plain": [
       "[<matplotlib.lines.Line2D at 0x1a292b0b50>]"
      ]
     },
     "execution_count": 95,
     "metadata": {},
     "output_type": "execute_result"
    },
    {
     "data": {
      "image/png": "[encoded data removed]",
      "text/plain": [
       "<matplotlib.figure.Figure at 0x1a3d58ee10>"
      ]
     },
     "metadata": {},
     "output_type": "display_data"
    }
   ],
   "source": [
    "corre=[]\n",
    "# print sents\n",
    "for i in range(n-3):\n",
    "    corre.append(np.inner(message_embeddings[i+2*n-1],message_embeddings[i+1+2*n-1]))\n",
    "plt.plot(corre,'o-')"
   ]
  },
  {
   "cell_type": "code",
   "execution_count": 37,
   "metadata": {},
   "outputs": [
    {
     "name": "stdout",
     "output_type": "stream",
     "text": [
      "('k: ', 1)\n",
      "('k: ', 2)\n",
      "('k: ', 3)\n",
      "('k: ', 4)\n",
      "('k: ', 5)\n",
      "('k: ', 6)\n",
      "('k: ', 7)\n",
      "('k: ', 8)\n",
      "('k: ', 9)\n",
      "('k: ', 10)\n",
      "('k: ', 11)\n",
      "('k: ', 12)\n",
      "('k: ', 13)\n",
      "('k: ', 14)\n",
      "('k: ', 15)\n",
      "('k: ', 16)\n",
      "('k: ', 17)\n",
      "('k: ', 18)\n",
      "('k: ', 19)\n"
     ]
    },
    {
     "data": {
      "image/png": "[encoded data removed]",
      "text/plain": [
       "<matplotlib.figure.Figure at 0x1a295d0f90>"
      ]
     },
     "metadata": {},
     "output_type": "display_data"
    }
   ],
   "source": [
    "# Elbow criterion\n",
    "from sklearn.cluster import KMeans\n",
    "def elbow_plot(data, maxK=10, seed_centroids=None):\n",
    "    \"\"\"\n",
    "        parameters:\n",
    "        - data: pandas DataFrame (data to be fitted)\n",
    "        - maxK (default = 10): integer (maximum number of clusters with which to run k-means)\n",
    "        - seed_centroids (default = None ): float (initial value of centroids for k-means)\n",
    "    \"\"\"\n",
    "    sse = {}\n",
    "    for k in range(1, maxK):\n",
    "        print(\"k: \", k)\n",
    "        if seed_centroids is not None:\n",
    "            seeds = seed_centroids.head(k)\n",
    "            kmeans = KMeans(n_clusters=k, max_iter=500, n_init=100, random_state=0, init=np.reshape(seeds, (k,1))).fit(data)\n",
    "#             data[\"clusters\"] = kmeans.labels_\n",
    "        else:\n",
    "            kmeans = KMeans(n_clusters=k, max_iter=300, n_init=100, random_state=0).fit(data)\n",
    "#             data[\"clusters\"] = kmeans.labels_\n",
    "        # Inertia: Sum of distances of samples to their closest cluster center\n",
    "        sse[k] = kmeans.inertia_\n",
    "    plt.figure()\n",
    "    plt.plot(list(sse.keys()), list(sse.values()))\n",
    "    plt.show()\n",
    "    return\n",
    "\n",
    "elbow_plot(message_embeddings, maxK=20)"
   ]
  },
  {
   "cell_type": "markdown",
   "metadata": {
    "colab_type": "text",
    "id": "wlDqttNcE0Bx"
   },
   "source": [
    "## Similarity visualized\n",
    "Here we show the similarity in a heat map. The final graph is a 9x9 matrix where each entry `[i, j]` is colored based on the inner product of the encodings for sentence `i` and `j`."
   ]
  },
  {
   "cell_type": "code",
   "execution_count": 12,
   "metadata": {},
   "outputs": [],
   "source": [
    "#messages = [\"bag\",\"Washington\",\"City\",\"where is this\"]\n",
    "messages = [\"A policeman halts an oncoming car\", \n",
    "            \"these 2 cops Then somehow are driving the car\",\n",
    "            \"They parked they car\",\n",
    "            \"I was driving my car\",\n",
    "            \"they told me to do this\",\n",
    "            \"I said I won't do anything\"\n",
    "            \n",
    "           ]"
   ]
  },
  {
   "cell_type": "code",
   "execution_count": 13,
   "metadata": {},
   "outputs": [
    {
     "data": {
      "image/png": "[encoded data removed]",
      "text/plain": [
       "<Figure size 432x288 with 2 Axes>"
      ]
     },
     "metadata": {},
     "output_type": "display_data"
    }
   ],
   "source": [
    "with tf.Session() as session:\n",
    "    session.run(tf.global_variables_initializer())\n",
    "    session.run(tf.tables_initializer())\n",
    "    run_and_plot(session, input_placeholder, messages)"
   ]
  },
  {
   "cell_type": "code",
   "execution_count": 101,
   "metadata": {},
   "outputs": [
    {
     "name": "stdout",
     "output_type": "stream",
     "text": [
      "[('I', 'O'), ('went', 'O'), ('to', 'O'), ('Germany', 'S-LOC')]\n"
     ]
    }
   ],
   "source": [
    "print t_annotated['ner']"
   ]
  },
  {
   "cell_type": "markdown",
   "metadata": {},
   "source": [
    "# Find Places"
   ]
  },
  {
   "cell_type": "code",
   "execution_count": null,
   "metadata": {},
   "outputs": [],
   "source": [
    "import csv\n",
    "places=[]\n",
    "f = open('places.csv', 'rb')\n",
    "reader = csv.reader(f)\n",
    "for row in reader:\n",
    "    places.append(row[0])\n",
    "f.close()\n",
    "tf.logging.set_verbosity(tf.logging.ERROR)\n",
    "embeddings_places=[]\n",
    "messages = places\n",
    "values, indices, dense_shape = process_to_IDs_in_sparse_format(sp, messages)\n",
    "\n",
    "# Reduce logging output.\n",
    "tf.logging.set_verbosity(tf.logging.ERROR)\n",
    "\n",
    "with tf.Session() as session:\n",
    "    session.run([tf.global_variables_initializer(), tf.tables_initializer()])\n",
    "    place_embeddings = session.run(\n",
    "      encodings,\n",
    "      feed_dict={input_placeholder.values: values,\n",
    "                input_placeholder.indices: indices,\n",
    "                input_placeholder.dense_shape: dense_shape})"
   ]
  },
  {
   "cell_type": "code",
   "execution_count": 95,
   "metadata": {},
   "outputs": [
    {
     "name": "stdout",
     "output_type": "stream",
     "text": [
      "['\\xef\\xbb\\xbfsnowy road ', 'highway ', 'beach ', 'land ', 'structure', 'bridge', 'side', 'neighborhood', 'rock place', 'somewhere', 'path', 'rolling hills', 'fields', 'Valley', 'street', 'road', 'tunnel', 'escalator', 'hotel', 'room', 'city', 'desert', 'destination', 'aiplane', 'adventure', 'cabin', 'cabin camping', 'spaceship', 'spacecraft', 'downtown', 'country', 'desert', 'resort', 'bin', 'train', 'elevator', 'tower', 'house', 'outside', 'area', 'space', 'coast', 'town', 'field', 'forest', 'boat', 'ocean', 'restaurant', 'place', 'hallway', 'river', 'airport', 'terminal', 'region', 'motel', 'way', 'wilderness', 'camp', 'mountain', 'home', 'cave', 'station', 'airport', 'freeway', 'tram', 'coast']\n"
     ]
    }
   ],
   "source": [
    "print places"
   ]
  },
  {
   "cell_type": "code",
   "execution_count": 96,
   "metadata": {},
   "outputs": [
    {
     "name": "stdout",
     "output_type": "stream",
     "text": [
      "1.0\n"
     ]
    }
   ],
   "source": [
    "print np.inner(place_embeddings[0],place_embeddings[0])"
   ]
  },
  {
   "cell_type": "code",
   "execution_count": 2,
   "metadata": {},
   "outputs": [],
   "source": [
    "def findPssibleLocation(t_orig,place_embeddings):\n",
    "    t_sentences = sent_tokenize(t_orig)\n",
    "    result=[]\n",
    "    for t_ind, t in enumerate(t_sentences):\n",
    "        t_annotated = annotator.getAnnotations(t, dep_parse=True)\n",
    "        ner=t_annotated['ner']\n",
    "        for p1,p2 in ner:\n",
    "            if p2=='S-LOC':\n",
    "                result.append(p1)\n",
    "    words=t_annotated['words']\n",
    "    values, indices, dense_shape = process_to_IDs_in_sparse_format(sp, words)\n",
    "    with tf.Session() as session:\n",
    "        session.run([tf.global_variables_initializer(), tf.tables_initializer()])\n",
    "        word_embeddings = session.run(\n",
    "          encodings,\n",
    "          feed_dict={input_placeholder.values: values,\n",
    "                input_placeholder.indices: indices,\n",
    "                input_placeholder.dense_shape: dense_shape})\n",
    "    j=-1\n",
    "    while j<len(word_embeddings)-1:\n",
    "        j=j+1\n",
    "        for i in range(len(place_embeddings)):\n",
    "            \n",
    "            if np.inner(place_embeddings[i],word_embeddings[j])>0.75:\n",
    "                result.append(words[j])\n",
    "                j=j+1\n",
    "                if j>len(word_embeddings)-1:\n",
    "                    break\n",
    "    return result"
   ]
  },
  {
   "cell_type": "code",
   "execution_count": 118,
   "metadata": {},
   "outputs": [
    {
     "name": "stdout",
     "output_type": "stream",
     "text": [
      "['house']\n"
     ]
    }
   ],
   "source": [
    "t=\"I have gone on a tour bus to Mexico for a few days\"\n",
    "t=\"I am in a small town with Patricia and Charla.\"\n",
    "t=\"I came across a park for meeting in afternoon\"\n",
    "t=\"We are visiting a strange house, I am angry at Frank for flirting with a young woman\"\n",
    "#t=\"The park feels like it is in Washington\"\n",
    "print findPssibleLocation(t,place_embeddings)"
   ]
  },
  {
   "cell_type": "code",
   "execution_count": 120,
   "metadata": {},
   "outputs": [
    {
     "name": "stdout",
     "output_type": "stream",
     "text": [
      "park\n",
      "prep_across came-2, park-5\n",
      "meeting\n",
      "prep_for came-2, meeting-7\n",
      "afternoon\n",
      "prep_in meeting-7, afternoon-9\n"
     ]
    }
   ],
   "source": [
    "# t=\"I dreamed I had to go on a long ocean voyage and I was in uniform of some branch of the military forces.\"\n",
    "# t=\"The culture here was Asian, and the place I was staying, martial arts predominated as a pastime.\"\n",
    "# t=\"We are outside\"\n",
    "# t=\"I'm driving down snowy road \"\n",
    "# t=\"I'm on a log flume ride \"\n",
    "# t=\"The park feels like it is in Washington.\"\n",
    "t=\"I came across a park for meeting in afternoon\"\n",
    "t_annotated = annotator.getAnnotations(t, dep_parse=True)\n",
    "dep_parsing = t_annotated[\"dep_parse\"]\n",
    "list_words=dep_parsing.split('\\n')\n",
    "o_word=[]\n",
    "for p in list_words:\n",
    "#     p=str(p)\n",
    "#     p.replace('\\n',' ')\n",
    "    p=p.replace(')',' ')\n",
    "    p=p.replace('(',' ')\n",
    "    l_p=p.split(' ')\n",
    "    if 'prep'in l_p[0]:\n",
    "        res=l_p[2].split('-')\n",
    "        o_word.append(res[0])\n",
    "        print res[0]\n",
    "        print l_p[0],l_p[1],l_p[2]"
   ]
  },
  {
   "cell_type": "code",
   "execution_count": 115,
   "metadata": {},
   "outputs": [
    {
     "name": "stdout",
     "output_type": "stream",
     "text": [
      "original word  park\n",
      "street\n",
      "0.7203883\n",
      "original word  meeting\n",
      "resort\n",
      "0.54441565\n",
      "original word  afternoon\n",
      "home\n",
      "0.5467155\n"
     ]
    }
   ],
   "source": [
    "words=o_word\n",
    "words\n",
    "values, indices, dense_shape = process_to_IDs_in_sparse_format(sp, words)\n",
    "with tf.Session() as session:\n",
    "    session.run([tf.global_variables_initializer(), tf.tables_initializer()])\n",
    "    word_embeddings = session.run(\n",
    "        encodings,\n",
    "        feed_dict={input_placeholder.values: values,\n",
    "            input_placeholder.indices: indices,\n",
    "            input_placeholder.dense_shape: dense_shape})\n",
    "j=-1\n",
    "while j<len(word_embeddings)-1:\n",
    "    j=j+1\n",
    "    th=0\n",
    "    index=0\n",
    "    for i in range(len(place_embeddings)):\n",
    "        th_temp=np.inner(place_embeddings[i],word_embeddings[j])\n",
    "        if th_temp>th:\n",
    "            index=i\n",
    "            th=th_temp\n",
    "    print \"original word \",o_word[j]\n",
    "    print places[index]\n",
    "    print th\n",
    "    "
   ]
  },
  {
   "cell_type": "code",
   "execution_count": null,
   "metadata": {},
   "outputs": [],
   "source": []
  }
 ],
 "metadata": {
  "colab": {
   "collapsed_sections": [
    "IJhWonqQN7u0"
   ],
   "default_view": {},
   "name": "Semantic Similarity with TF-Hub Universal Encoder Lite",
   "provenance": [],
   "version": "0.3.2",
   "views": {}
  },
  "kernelspec": {
   "display_name": "Python 2",
   "language": "python",
   "name": "python2"
  },
  "language_info": {
   "codemirror_mode": {
    "name": "ipython",
    "version": 2
   },
   "file_extension": ".py",
   "mimetype": "text/x-python",
   "name": "python",
   "nbconvert_exporter": "python",
   "pygments_lexer": "ipython2",
   "version": "2.7.15"
  },
  "varInspector": {
   "cols": {
    "lenName": 16,
    "lenType": 16,
    "lenVar": 40
   },
   "kernels_config": {
    "python": {
     "delete_cmd_postfix": "",
     "delete_cmd_prefix": "del ",
     "library": "var_list.py",
     "varRefreshCmd": "print(var_dic_list())"
    },
    "r": {
     "delete_cmd_postfix": ") ",
     "delete_cmd_prefix": "rm(",
     "library": "var_list.r",
     "varRefreshCmd": "cat(var_dic_list()) "
    }
   },
   "types_to_exclude": [
    "module",
    "function",
    "builtin_function_or_method",
    "instance",
    "_Feature"
   ],
   "window_display": false
  }
 },
 "nbformat": 4,
 "nbformat_minor": 1
}
