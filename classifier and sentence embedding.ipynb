{
 "cells": [
  {
   "cell_type": "code",
   "execution_count": 2,
   "metadata": {},
   "outputs": [],
   "source": [
    "import codecs\n",
    "from bs4 import BeautifulSoup\n",
    "import re\n",
    "import sys\n",
    "import time\n",
    "import pandas as pd\n",
    "from unidecode import unidecode\n",
    "from nltk import sent_tokenize\n",
    "\n",
    "sys.path.insert(0, '../../base_codes')\n",
    "sys.path.insert(0, '../../data_specific_codes')\n",
    "sys.path.insert(0, '../../utility_codes')\n",
    "\n",
    "from RE_init import *\n",
    "from main_functions import *\n",
    "from utility_functions import *\n",
    "from SDDb_utility_functions import *\n",
    "\n",
    "stdout = sys.stdout\n",
    "reload(sys)\n",
    "sys.setdefaultencoding('utf-8')\n",
    "sys.stdout = stdout\n",
    "\n",
    "%reload_ext autoreload\n",
    "%autoreload 2\n",
    "\n",
    "\n",
    "based_dir = ''\n",
    "file_input_name = 'dreams.csv'\n",
    "file_input = based_dir + file_input_name  \n",
    "\n",
    "def read_df_rel(based_dir, file_input_name):\n",
    "    file_input = based_dir + file_input_name    \n",
    "    delim=\",\"\n",
    "    df = pd.read_csv(file_input,delimiter=delim,header=0)        \n",
    "    return df\n",
    "\n",
    "df_all_dreams = read_df_rel(based_dir, file_input_name)"
   ]
  },
  {
   "cell_type": "code",
   "execution_count": 3,
   "metadata": {},
   "outputs": [],
   "source": [
    "# df_all_dreams['content'][100]\n",
    "df_all_dreams = df_all_dreams.rename(columns={'content': 'text'})\n"
   ]
  },
  {
   "cell_type": "code",
   "execution_count": 7,
   "metadata": {},
   "outputs": [
    {
     "name": "stdout",
     "output_type": "stream",
     "text": [
      "Execution Time:  83.1666550636  seconds.\n",
      "40435\n",
      "Execution Time:  22.3328020573\n",
      "total number of raw dream reports:  40435\n"
     ]
    }
   ],
   "source": [
    "# encoding: utf-8\n",
    "import codecs\n",
    "import bs4\n",
    "from bs4 import BeautifulSoup\n",
    "import re\n",
    "import sys\n",
    "import time\n",
    "import pandas as pd\n",
    "from unidecode import unidecode\n",
    "from nltk import sent_tokenize\n",
    "\n",
    "sys.path.insert(0, '../../base_codes')\n",
    "sys.path.insert(0, '../../data_specific_codes')\n",
    "sys.path.insert(0, '../../utility_codes')\n",
    "\n",
    "from RE_init import *\n",
    "from main_functions import *\n",
    "from utility_functions import *\n",
    "from SDDb_utility_functions import *\n",
    "\n",
    "stdout = sys.stdout\n",
    "reload(sys)\n",
    "sys.setdefaultencoding('utf-8')\n",
    "sys.stdout = stdout\n",
    "\n",
    "%reload_ext autoreload\n",
    "%autoreload 2\n",
    "\n",
    "\n",
    "based_dir = ''\n",
    "file_input_name = 'Sleep_and_Dream_Database_All_Results.html'\n",
    "file_input = based_dir + file_input_name    \n",
    "\n",
    "f=codecs.open(file_input, 'r', encoding='utf-8')#'iso-8859-1')#'utf-8')\n",
    "html = f.read()\n",
    "start_time = time.time()\n",
    "parsed_html = BeautifulSoup(html)\n",
    "print \"Execution Time: \", time.time()-start_time, \" seconds.\"\n",
    "start_time = time.time()\n",
    "count = 0\n",
    "list_final_res = []\n",
    "html_search_results = parsed_html.body.find('ul', attrs={'class':'list_result word-search'})\n",
    "for ind, item in enumerate(html_search_results.find_all('li')):\n",
    "    dream_text = item.find('div', attrs={'class':'searchhittext'}).text.strip(' \\t\\n\\r').decode('utf-8')\n",
    "    dream_text = re.sub(u\"(\\u2018|\\u2019|\\u201c|\\u201d|\\u0060|\\u00b4)\", \"'\", dream_text)\n",
    "    dream_text = dream_text.encode('ascii', 'ignore')\n",
    "    dream_title = item.find('strong').text\n",
    "    dream_header_text = item.find('div', attrs={'class':'searchhitheader'}).text\n",
    "    dream_header_text = dream_header_text.decode('utf-8').encode('ascii', 'ignore')\n",
    "    dream_date = re.findall(r'\\[(.*?)\\]', dream_header_text)[0]\n",
    "    dream_person_id = item.find('a', attrs={'class':'list_result_anchor'}).text\n",
    "    list_final_res.append([ind, dream_person_id, dream_date, dream_title, dream_text])\n",
    "    count += 1\n",
    "print count\n",
    "print \"Execution Time: \", time.time()-start_time\n",
    "df_texts = pd.DataFrame(list_final_res, columns = [\"index\", \"person id\", \"answer date\", \"title\", \"text\"])\n",
    "print \"total number of raw dream reports: \", len(df_texts)"
   ]
  },
  {
   "cell_type": "code",
   "execution_count": 6,
   "metadata": {},
   "outputs": [
    {
     "name": "stdout",
     "output_type": "stream",
     "text": [
      "26093\n"
     ]
    }
   ],
   "source": [
    "df_all_dreams.drop_duplicates(subset=[\"text\"], inplace=True)\n",
    "print len(df_all_dreams)"
   ]
  },
  {
   "cell_type": "code",
   "execution_count": 9,
   "metadata": {},
   "outputs": [
    {
     "name": "stdout",
     "output_type": "stream",
     "text": [
      "33453\n"
     ]
    }
   ],
   "source": [
    "df_texts.drop_duplicates(subset=[\"text\"], inplace=True)\n",
    "print len(df_texts)"
   ]
  },
  {
   "cell_type": "code",
   "execution_count": 10,
   "metadata": {},
   "outputs": [
    {
     "name": "stdout",
     "output_type": "stream",
     "text": [
      "59546\n"
     ]
    }
   ],
   "source": [
    "result = pd.concat([df_texts, df_all_dreams])\n",
    "print len(result)"
   ]
  },
  {
   "cell_type": "code",
   "execution_count": 12,
   "metadata": {},
   "outputs": [
    {
     "name": "stdout",
     "output_type": "stream",
     "text": [
      "58095\n"
     ]
    }
   ],
   "source": [
    "result.drop_duplicates(subset=[\"text\"], inplace=True)\n",
    "print len(result)"
   ]
  },
  {
   "cell_type": "code",
   "execution_count": 13,
   "metadata": {},
   "outputs": [
    {
     "name": "stdout",
     "output_type": "stream",
     "text": [
      "Execution Time:  142.615994215  seconds.\n",
      "total number of dream reports after removing duplicates:  58095\n"
     ]
    }
   ],
   "source": [
    "result.drop_duplicates(subset=[\"text\"], inplace=True)\n",
    "start_time = time.time()\n",
    "for ind, row in result.iterrows():\n",
    "    post = row[\"text\"]\n",
    "    num_sentences = len(sent_tokenize(post))    \n",
    "    post_clean = clean_sent(post)\n",
    "    if num_sentences == 1 and has_dot_issue(post_clean):\n",
    "        post_clean = fix_dot_issue(post_clean)\n",
    "    result.set_value(ind,'text',post_clean)\n",
    "print \"Execution Time: \", time.time()-start_time, \" seconds.\"    \n",
    "result.to_csv(based_dir + 'all_dreams_two.csv',  index = False, encoding='ascii')\n",
    "print \"total number of dream reports after removing duplicates: \", len(result)"
   ]
  },
  {
   "cell_type": "code",
   "execution_count": 86,
   "metadata": {},
   "outputs": [
    {
     "name": "stdout",
     "output_type": "stream",
     "text": [
      "number of new reports: 1933\n"
     ]
    }
   ],
   "source": [
    "df_new_reports_five = result[result.apply(lambda x: is_any_entities_present(x[\"text\"], set_five), axis=1)]\n",
    "print \"number of new reports:\", len(df_new_reports_five)"
   ]
  },
  {
   "cell_type": "code",
   "execution_count": 76,
   "metadata": {},
   "outputs": [
    {
     "name": "stdout",
     "output_type": "stream",
     "text": [
      "number of new reports: 1987\n"
     ]
    }
   ],
   "source": [
    "df_new_reports_four = result[result.apply(lambda x: is_any_entities_present(x[\"text\"], set_four), axis=1)]\n",
    "print \"number of new reports:\", len(df_new_reports_four)"
   ]
  },
  {
   "cell_type": "code",
   "execution_count": 84,
   "metadata": {},
   "outputs": [
    {
     "name": "stdout",
     "output_type": "stream",
     "text": [
      "number of new reports: 1214\n"
     ]
    }
   ],
   "source": [
    "df_new_reports_test = result[result.apply(lambda x: is_any_entities_present(x[\"text\"], [\"north\",\"east\",\"west\",\"south\"]), axis=1)]\n",
    "print \"number of new reports:\", len(df_new_reports_test)"
   ]
  },
  {
   "cell_type": "code",
   "execution_count": 95,
   "metadata": {},
   "outputs": [
    {
     "name": "stdout",
     "output_type": "stream",
     "text": [
      "number of new reports: 13093\n"
     ]
    }
   ],
   "source": [
    "mains = result[result.apply(lambda x: is_any_entities_present(x[\"text\"], set_three), axis=1)]\n",
    "mains.drop_duplicates(subset=[\"text\"], inplace=True)\n",
    "print \"number of new reports:\", len(mains)"
   ]
  },
  {
   "cell_type": "markdown",
   "metadata": {},
   "source": [
    "# Simple Classifier"
   ]
  },
  {
   "cell_type": "code",
   "execution_count": 27,
   "metadata": {},
   "outputs": [],
   "source": [
    "train=[]\n",
    "label=[]\n",
    "for index,row in df_new_reports_travel.iterrows():\n",
    "    train.append(row['text'])\n",
    "    label.append(1)"
   ]
  },
  {
   "cell_type": "code",
   "execution_count": 29,
   "metadata": {},
   "outputs": [],
   "source": [
    "import random\n",
    "N=len(result)\n",
    "i=0\n",
    "for index,row in result.iterrows():\n",
    "    i=i+1\n",
    "    if i<274:\n",
    "        train.append(row['text'])\n",
    "        label.append(0)\n",
    "    else:\n",
    "        break"
   ]
  },
  {
   "cell_type": "code",
   "execution_count": 30,
   "metadata": {},
   "outputs": [
    {
     "data": {
      "text/plain": [
       "547"
      ]
     },
     "execution_count": 30,
     "metadata": {},
     "output_type": "execute_result"
    }
   ],
   "source": [
    "len(train)"
   ]
  },
  {
   "cell_type": "code",
   "execution_count": 31,
   "metadata": {},
   "outputs": [
    {
     "name": "stdout",
     "output_type": "stream",
     "text": [
      "(547, 6724)\n"
     ]
    }
   ],
   "source": [
    "from sklearn.datasets import fetch_20newsgroups\n",
    "from sklearn.feature_extraction.text import CountVectorizer\n",
    "from sklearn.feature_extraction import text\n",
    "from nltk.tokenize import TreebankWordTokenizer\n",
    "from nltk.corpus import stopwords\n",
    "from nltk.stem import PorterStemmer\n",
    "from sklearn.feature_extraction import text\n",
    "from nltk.stem.snowball import SnowballStemmer\n",
    "from nltk.tag import pos_tag\n",
    "import nltk\n",
    "import re\n",
    "import string\n",
    "stop_words = text.ENGLISH_STOP_WORDS\n",
    "from nltk import word_tokenize\n",
    "from nltk.tokenize import RegexpTokenizer\n",
    "from nltk.stem import PorterStemmer # what kind of stemming algorithm to use?\n",
    "from sklearn.feature_extraction.text import TfidfTransformer\n",
    "from sklearn.naive_bayes import MultinomialNB\n",
    "\n",
    "import re\n",
    "vectorizer = CountVectorizer(stop_words=stop_words)\n",
    "X_train_counts = vectorizer.fit_transform(train)\n",
    "print X_train_counts.shape\n",
    "tf_transformer = TfidfTransformer(use_idf=False).fit(X_train_counts)\n",
    "X_train_tf = tf_transformer.transform(X_train_counts)\n",
    "tfidf_transformer = TfidfTransformer()\n",
    "X_train_tfidf = tfidf_transformer.fit_transform(X_train_counts)\n",
    "clf = MultinomialNB().fit(X_train_tfidf, label)\n"
   ]
  },
  {
   "cell_type": "code",
   "execution_count": 32,
   "metadata": {},
   "outputs": [],
   "source": [
    "test=[]\n",
    "number=0\n",
    "\n",
    "number=0\n",
    "for index, row in result.iterrows():\n",
    "    if number<275:\n",
    "        number=number+1\n",
    "    elif number<400:\n",
    "        number=number+1\n",
    "        test.append(df_texts['text'][index])\n",
    "    else:\n",
    "        break"
   ]
  },
  {
   "cell_type": "code",
   "execution_count": 33,
   "metadata": {},
   "outputs": [],
   "source": [
    "X_new_counts = vectorizer.transform(test)\n",
    "X_new_tfidf = tfidf_transformer.transform(X_new_counts)\n",
    "predicted = clf.predict(X_new_tfidf)\n",
    "\n"
   ]
  },
  {
   "cell_type": "markdown",
   "metadata": {},
   "source": [
    "# Sentence similarity measurement\n",
    "The idea here is to measure the similarity between two sentences and then try to plot story based on vectors we have.\n"
   ]
  },
  {
   "cell_type": "code",
   "execution_count": 18,
   "metadata": {},
   "outputs": [],
   "source": [
    "import tensorflow_hub as hub\n",
    "import tensorflow as tf\n",
    "tf.logging.set_verbosity(tf.logging.ERROR)\n",
    "embed = hub.Module(\"https://tfhub.dev/google/universal-sentence-encoder/2\")"
   ]
  },
  {
   "cell_type": "markdown",
   "metadata": {},
   "source": [
    "# Let's first try whole sentence:\n",
    "## First case: the set_three"
   ]
  },
  {
   "cell_type": "code",
   "execution_count": 97,
   "metadata": {},
   "outputs": [
    {
     "name": "stdout",
     "output_type": "stream",
     "text": [
      "13093\n",
      "8607\n"
     ]
    }
   ],
   "source": [
    "print len(mains)\n",
    "mains.drop_duplicates(subset=[\"text\"], inplace=True)\n",
    "print len(mains)"
   ]
  },
  {
   "cell_type": "code",
   "execution_count": 96,
   "metadata": {},
   "outputs": [],
   "source": [
    "messages1=[]\n",
    "for index,row in mains.iterrows():\n",
    "    messages1.append(row['text'])\n",
    "    "
   ]
  },
  {
   "cell_type": "code",
   "execution_count": null,
   "metadata": {},
   "outputs": [],
   "source": [
    "from nltk import sent_tokenize\n",
    "# sents= sent_tokenize(sample)"
   ]
  },
  {
   "cell_type": "code",
   "execution_count": 98,
   "metadata": {},
   "outputs": [],
   "source": [
    "messages=[]\n",
    "messages1=[]\n",
    "for index,row in mains.iterrows():\n",
    "    messages1.append(row['text'])\n",
    "    text=\"\"\n",
    "    all_rels_str, all_rels = [], []\n",
    "    t_orig = row['text']\n",
    "    t_orig = t_orig.replace(\"(\",\"\")\n",
    "    t_orig = t_orig.replace(\")\",\"\")\n",
    "    t_orig = t_orig.replace(\"\\n\",\".\")\n",
    "    t_orig = clean_sent(t_orig)\n",
    "    t_sentences = sent_tokenize(t_orig)\n",
    "    for i in range(len(t_sentences)):\n",
    "        for v in set_three:\n",
    "            if v in t_sentences[i]:\n",
    "                if i>1:\n",
    "                    text=text+t_sentences[i-1]\n",
    "                text=text+t_sentences[i]\n",
    "                if i<len(t_sentences)-1:\n",
    "                    text=text+t_sentences[i+1]\n",
    "    messages.append(text)"
   ]
  },
  {
   "cell_type": "code",
   "execution_count": 99,
   "metadata": {},
   "outputs": [],
   "source": [
    "# import tensorflow as tf\n",
    "# import tensorflow_hub as hub\n",
    "import matplotlib.pyplot as plt\n",
    "import numpy as np\n",
    "import os\n",
    "import pandas as pd\n",
    "import re\n",
    "import seaborn as sns"
   ]
  },
  {
   "cell_type": "code",
   "execution_count": 17,
   "metadata": {},
   "outputs": [],
   "source": [
    "from sklearn import metrics\n",
    "\n",
    "\n",
    "# Elbow criterion\n",
    "\n",
    "def elbow_plot(data, maxK=10, seed_centroids=None):\n",
    "    \"\"\"\n",
    "        parameters:\n",
    "        - data: pandas DataFrame (data to be fitted)\n",
    "        - maxK (default = 10): integer (maximum number of clusters with which to run k-means)\n",
    "        - seed_centroids (default = None ): float (initial value of centroids for k-means)\n",
    "    \"\"\"\n",
    "\n",
    "    sse = {}\n",
    "    for k in range(1, maxK):\n",
    "        print(\"k: \", k)\n",
    "        if seed_centroids is not None:\n",
    "            seeds = seed_centroids.head(k)\n",
    "            kmeans = KMeans(n_clusters=k, max_iter=500, n_init=100, random_state=0, init=np.reshape(seeds, (k,1))).fit(data)\n",
    "#             data[\"clusters\"] = kmeans.labels_\n",
    "        else:\n",
    "            kmeans = KMeans(n_clusters=k, max_iter=300, n_init=100, random_state=0).fit(data)\n",
    "#             data[\"clusters\"] = kmeans.labels_\n",
    "        # Inertia: Sum of distances of samples to their closest cluster center\n",
    "        sse[k] = kmeans.inertia_\n",
    "    plt.figure()\n",
    "    plt.plot(list(sse.keys()), list(sse.values()))\n",
    "    plt.show()\n",
    "    return"
   ]
  },
  {
   "cell_type": "code",
   "execution_count": 100,
   "metadata": {},
   "outputs": [],
   "source": [
    "tf.logging.set_verbosity(tf.logging.ERROR)\n",
    "embeddings_whole=[]\n",
    "with tf.Session() as session:\n",
    "    session.run([tf.global_variables_initializer(), tf.tables_initializer()])\n",
    "    embeddings_whole = session.run(embed(messages))"
   ]
  },
  {
   "cell_type": "code",
   "execution_count": 101,
   "metadata": {},
   "outputs": [
    {
     "name": "stdout",
     "output_type": "stream",
     "text": [
      "8607\n",
      "8607\n"
     ]
    }
   ],
   "source": [
    "print len(messages)\n",
    "print len(messages1)"
   ]
  },
  {
   "cell_type": "code",
   "execution_count": 25,
   "metadata": {},
   "outputs": [
    {
     "name": "stdout",
     "output_type": "stream",
     "text": [
      "('k: ', 1)\n",
      "('k: ', 2)\n",
      "('k: ', 3)\n",
      "('k: ', 4)\n",
      "('k: ', 5)\n",
      "('k: ', 6)\n",
      "('k: ', 7)\n",
      "('k: ', 8)\n",
      "('k: ', 9)\n",
      "('k: ', 10)\n",
      "('k: ', 11)\n",
      "('k: ', 12)\n",
      "('k: ', 13)\n",
      "('k: ', 14)\n",
      "('k: ', 15)\n",
      "('k: ', 16)\n",
      "('k: ', 17)\n",
      "('k: ', 18)\n",
      "('k: ', 19)\n",
      "('k: ', 20)\n",
      "('k: ', 21)\n",
      "('k: ', 22)\n",
      "('k: ', 23)\n",
      "('k: ', 24)\n",
      "('k: ', 25)\n",
      "('k: ', 26)\n",
      "('k: ', 27)\n",
      "('k: ', 28)\n",
      "('k: ', 29)\n",
      "('k: ', 30)\n",
      "('k: ', 31)\n",
      "('k: ', 32)\n",
      "('k: ', 33)\n",
      "('k: ', 34)\n",
      "('k: ', 35)\n",
      "('k: ', 36)\n",
      "('k: ', 37)\n",
      "('k: ', 38)\n",
      "('k: ', 39)\n",
      "('k: ', 40)\n",
      "('k: ', 41)\n",
      "('k: ', 42)\n",
      "('k: ', 43)\n",
      "('k: ', 44)\n",
      "('k: ', 45)\n",
      "('k: ', 46)\n",
      "('k: ', 47)\n",
      "('k: ', 48)\n",
      "('k: ', 49)\n"
     ]
    },
    {
     "data": {
      "image/png": "[encoded data removed]",
      "text/plain": [
       "<matplotlib.figure.Figure at 0x1c78b6f990>"
      ]
     },
     "metadata": {},
     "output_type": "display_data"
    }
   ],
   "source": [
    "elbow_plot(embeddings_whole, maxK=50)"
   ]
  },
  {
   "cell_type": "code",
   "execution_count": 47,
   "metadata": {},
   "outputs": [
    {
     "data": {
      "text/plain": [
       "array([4633, 8704, 1617, 9776, 8830, 3165, 2148, 5838, 1592, 3516, 2461,\n",
       "       1063, 1140, 2655, 3833, 6662, 4265, 6493, 3705, 2736])"
      ]
     },
     "execution_count": 47,
     "metadata": {},
     "output_type": "execute_result"
    }
   ],
   "source": [
    "closest"
   ]
  },
  {
   "cell_type": "code",
   "execution_count": 103,
   "metadata": {},
   "outputs": [
    {
     "data": {
      "text/plain": [
       "{0: 442,\n",
       " 1: 447,\n",
       " 2: 400,\n",
       " 3: 484,\n",
       " 4: 387,\n",
       " 5: 268,\n",
       " 6: 480,\n",
       " 7: 330,\n",
       " 8: 423,\n",
       " 9: 460,\n",
       " 10: 475,\n",
       " 11: 447,\n",
       " 12: 330,\n",
       " 13: 236,\n",
       " 14: 400,\n",
       " 15: 515,\n",
       " 16: 540,\n",
       " 17: 658,\n",
       " 18: 486,\n",
       " 19: 399}"
      ]
     },
     "execution_count": 103,
     "metadata": {},
     "output_type": "execute_result"
    }
   ],
   "source": [
    "{i: len(np.where(kmeans.labels_ == i)[0]) for i in range(kmeans.n_clusters)}\n"
   ]
  },
  {
   "cell_type": "code",
   "execution_count": 111,
   "metadata": {},
   "outputs": [],
   "source": [
    "for k in range(14,15):\n",
    "    cluster_messages=[]\n",
    "    cluster_embedding=[]\n",
    "    for i in range(len(kmeans.labels_)):\n",
    "        if kmeans.labels_[i]==k:\n",
    "            cluster_messages.append(messages1[i])\n",
    "            cluster_embedding.append(embeddings_whole[i])\n",
    "    d = kmeans.transform(cluster_embedding)[:, k]\n",
    "    ind = np.argsort(d)[::-1]  \n",
    "    temp= np.array(cluster_messages)[ind]\n",
    "#     df11 = pd.DataFrame(np.array(cluster_messages)[ind])\n",
    "#     df11.to_excel('cluster'+str(k)+'.xlsx', header=False, index=False)"
   ]
  },
  {
   "cell_type": "markdown",
   "metadata": {},
   "source": [
    "# Clustering based on average of three vector embedding"
   ]
  },
  {
   "cell_type": "code",
   "execution_count": 126,
   "metadata": {},
   "outputs": [],
   "source": [
    "messages_2=[]\n",
    "messages1_2=[]\n",
    "for index,row in mains.iterrows():\n",
    "    messages1_2.append(row['text'])\n",
    "    text=\"\"\n",
    "    all_rels_str, all_rels = [], []\n",
    "    t_orig = row['text']\n",
    "    t_orig = t_orig.replace(\"(\",\"\")\n",
    "    t_orig = t_orig.replace(\")\",\"\")\n",
    "    t_orig = t_orig.replace(\"\\n\",\".\")\n",
    "    t_orig = t_orig.replace(\".\",\". \")\n",
    "    t_sentences = sent_tokenize(t_orig)\n",
    "    for i in range(len(t_sentences)):\n",
    "        for v in set_three:\n",
    "            if v in t_sentences[i]:\n",
    "                if i>1:\n",
    "                    text=text+t_sentences[i-1]\n",
    "                text=text+t_sentences[i]\n",
    "                if i<len(t_sentences)-1:\n",
    "                    text=text+t_sentences[i+1]\n",
    "                break\n",
    "    messages_2.append(text)"
   ]
  },
  {
   "cell_type": "code",
   "execution_count": 127,
   "metadata": {},
   "outputs": [],
   "source": [
    "tf.logging.set_verbosity(tf.logging.ERROR)\n",
    "embeddings_whole_2=[]\n",
    "with tf.Session() as session:\n",
    "    session.run([tf.global_variables_initializer(), tf.tables_initializer()])\n",
    "    embeddings_whole_2 = session.run(embed(messages_2))\n",
    "kmeans_2 = KMeans(n_clusters=20, random_state=0).fit(embeddings_whole_2)"
   ]
  },
  {
   "cell_type": "code",
   "execution_count": 125,
   "metadata": {},
   "outputs": [
    {
     "data": {
      "text/plain": [
       "{0: 453,\n",
       " 1: 383,\n",
       " 2: 424,\n",
       " 3: 528,\n",
       " 4: 530,\n",
       " 5: 650,\n",
       " 6: 236,\n",
       " 7: 300,\n",
       " 8: 504,\n",
       " 9: 411,\n",
       " 10: 366,\n",
       " 11: 407,\n",
       " 12: 341,\n",
       " 13: 422,\n",
       " 14: 523,\n",
       " 15: 529,\n",
       " 16: 329,\n",
       " 17: 280,\n",
       " 18: 513,\n",
       " 19: 478}"
      ]
     },
     "execution_count": 125,
     "metadata": {},
     "output_type": "execute_result"
    }
   ],
   "source": [
    "{i: len(np.where(kmeans_2.labels_ == i)[0]) for i in range(kmeans_2.n_clusters)}\n"
   ]
  },
  {
   "cell_type": "code",
   "execution_count": null,
   "metadata": {},
   "outputs": [],
   "source": [
    "for i in range(len(kmeans.labels_)):\n",
    "    if kmeans.labels_[i]==9:\n",
    "        if len(messages[i])<500:\n",
    "            print messages[i]\n",
    "            print \"=========================================\"\n",
    "            print \"=========================================\""
   ]
  },
  {
   "cell_type": "markdown",
   "metadata": {},
   "source": [
    "# Second case: narrow filter"
   ]
  },
  {
   "cell_type": "code",
   "execution_count": 125,
   "metadata": {},
   "outputs": [],
   "source": [
    "messages_2=[]\n",
    "for index,row in df_new_reports_five.iterrows():\n",
    "    messages_2.append(row['text'])\n"
   ]
  },
  {
   "cell_type": "code",
   "execution_count": 126,
   "metadata": {},
   "outputs": [],
   "source": [
    "tf.logging.set_verbosity(tf.logging.ERROR)\n",
    "embeddings_whole_2=[]\n",
    "with tf.Session() as session:\n",
    "    session.run([tf.global_variables_initializer(), tf.tables_initializer()])\n",
    "    embeddings_whole_2 = session.run(embed(messages_2))"
   ]
  },
  {
   "cell_type": "code",
   "execution_count": 139,
   "metadata": {},
   "outputs": [
    {
     "data": {
      "text/plain": [
       "{0: 29,\n",
       " 1: 89,\n",
       " 2: 90,\n",
       " 3: 93,\n",
       " 4: 102,\n",
       " 5: 82,\n",
       " 6: 108,\n",
       " 7: 139,\n",
       " 8: 91,\n",
       " 9: 159,\n",
       " 10: 83,\n",
       " 11: 109,\n",
       " 12: 77,\n",
       " 13: 77,\n",
       " 14: 94,\n",
       " 15: 89,\n",
       " 16: 108,\n",
       " 17: 143,\n",
       " 18: 88,\n",
       " 19: 83}"
      ]
     },
     "execution_count": 139,
     "metadata": {},
     "output_type": "execute_result"
    }
   ],
   "source": [
    "{i: len(np.where(kmeans2.labels_ == i)[0]) for i in range(kmeans2.n_clusters)}"
   ]
  },
  {
   "cell_type": "code",
   "execution_count": 141,
   "metadata": {},
   "outputs": [
    {
     "name": "stdout",
     "output_type": "stream",
     "text": [
      "My sister and I planned a trip, but the weather was bad, so I went alone. I went to the observation platform atop the Empire State Building. It was so foggy that I could not see anything.\n",
      "=========================================\n",
      "=========================================\n",
      "I took a voyage on water and then on land.\n",
      "=========================================\n",
      "=========================================\n",
      "The first scene was a coastal beach. Three whale type fish swam up on the beach and remained there momentarily stranded. They then turned around and swam out to sea quickly. Next I found myself swimming endlessly in the ocean. No place was evident as my destination. Then I found myself riding the surf towards shore. It was an exhilarating feeling. I felt very pleased with its occurrence. I only came in on a wave once. The next moment I found myself sneaking around an island inhabited by apparently some aliens. It reminded me of James Bond on the island in Dr. No. I was with some others, but I could not recall who they were. Excited, pleasant, no color Beach unknown\n",
      "=========================================\n",
      "=========================================\n",
      "I was going to sail away on the blue ocean. My wheelchair was attached to the ship like a dingy rowboat life raft?, and I was navigating the surf, the shallows from the land to the deep blue ocean. I was aware that this was the dangerous time of the voyage. My chair was heavy and might get water logged and sink us all, but after we were on the deep water, the chair would be the important and safe power source for the ship.\n",
      "=========================================\n",
      "=========================================\n",
      "I am in a wheelchair and at some tourist attraction. I want to go down the path to see it, but everyone says, No way, you ca not. You're in a wheelchair and it is inaccessible. I look. It does look bad, but I do not give up, I go on down the road and discover another path, one I think I can do. I head down it. It is hard, gravely and dirt and curvy and steep. I slip and slide, but make it. I feel quite victorious when I arrive at the bottom. Everyone kind of stares at me, and avoids me. I go to the boat dock. Many boats come up, one at a time, and get tourists to take them to the island. I want to get on, but they cannot imagine how I could, with the wheelchair. I get in the way of a man looking for more tourists for his boat and force him to take me. I get in his tiny blue boat, but get back out because it would mean I'd travel alone. I go to a canoe shaped boat and see a seat where the invalids can lay down. I get in that, but remain seated. I think about how I'll have to leave my chair here and then decide I'll need it on the island and think it into the boat. A young Malaysian woman sits in front of me. We come by the side where the attraction is. It's hot springs, geysers and such where the people have built what look like window frames and the shapes of houses around the naturally occurring rocks and geysers. It's kind of Victorian garish. We come close to it and I reach out my hand to touch the water from the geyser. The Malaysian woman is terribly offended and grabs my hand back. I sayWhat? She says, It is for drinking, not touching! I am surprised, but hey, I did not know. She says, I was not going to say anything, seeing as how it is cultural ignorance, but. I say It's OK. I feel caught and embarrassed, and yet, how was I to know? We go on. The canoe is skinny and shallow. I wonder if the ocean waves will slop into the boat. I hang on tightly. It's a smooth ride and I wonder why I do not feel the waves. We arrive at the island and I get out and into the chair. It's a museum and I wander around kind of disappointed because it looks very American . nothing special and exotic, just American.\n",
      "=========================================\n",
      "=========================================\n",
      "080800The walk on the beach. I am at a beach parking lot. I am in my wheelchair. I see the ocean near by and want to go down to the beach. The people I'm with are busy, so I decide to brave it on my own. I am concerned I will get stuck in the sand. I find a sandy path down to the beach, take a deep breath and try it. I slide down and manage to get on the beach. I am happy. I look around and travel in circles on the beach. I see some other people get stuck in the deep sand and I decide to head back before I get stuck. I find the path which is now a stairway ladder like thing. I now have to step by step go up. I try 3 different times and fall back down. Then I manage, precariously one step at a time. I get to the top, feeling good about making it. I turn and look at the ocean again. It is now swirling up to where it was. I am glad I got out of there in time.\n",
      "=========================================\n",
      "=========================================\n",
      "We were going on a class field trip to a big lake where Melissa, our science teacher, would teach us about the different rocks. We started looking where the really smooth sand was. We found some really cool rocks like granite, limestone and sandstone. We found a really large piece of pumice. It fell into the lake and I ran after it. I feel in the lake and the lake turned into a river with white water. Setting On a sandy area by a lake, and a rushing river. Characters My science teacher, Melissa; my classmates Helen, Jean, Arlie, Marisa, Jessica, Rochelle, Cara, Lydia, Amy and my two friends Ellie and Starla. Feelings and Thoughts Scared, excited. I was really excited when we found the really big piece of pumice, but when I feel in a river I was scared.\n",
      "=========================================\n",
      "=========================================\n",
      "with my family on a snow trip, happy, relaxed.\n",
      "=========================================\n",
      "=========================================\n",
      "Some vague dream about my husband and I camping.  We wanted to go riding one day, up to the falls, even though it was late August and the water was drying up. We saw a couple of ropes stretched between the two cliffs above the falls, and finally realized when I saw a man sitting on it this man sort of flew off into space that it was a bridge and our mule trip would go over it. This was sort of frightening and I did not know if I really wanted to go.\n",
      "=========================================\n",
      "=========================================\n",
      "Myself and several of my friends Terry, Ralph, Reece, Saul, Tyler and my brother, as well as celebrity chef Jaime Oliver are on a stag. do in a tropical jungle. We're staying in a hostel or a hotel. People are complaining about the hot temperature, but it does not seem that bad to me. Ralph and others keep warning about giant insects but I have not seen any. The highlight of the trip is a 'jump' from the top of a very high hill, which slopes downwards gradually until it falls away allowing free fall. Somehow we can control our jump just with our arms and 'fly', which means we can stay off the ground by gliding, as if we were flying hand. gliders. Ralph is very accomplished at this technique and leads the group, flying the furthest. I follow just behind. Some of the others especially Terry struggle.\n",
      "=========================================\n",
      "=========================================\n",
      "I had to go to the bathroom and was in a public bathroom. There was a long line and then suddenly like 4 stalls open up. I go into one and it is apparenlty combined with a 2nd stall so this other girl walks in with me. I was like uh can you please leave and she said no. So I left. I was now looking for some clothes to change into. When I came outside I was in some sort of outdoor plaza. THere was water and boats and several high rise buildings. There were these spanish people who seemed to know me swimming in the water and sitting on the boat. The boat was low to the water, long like a sail boat but with no sail. I believe I was in chicago and at one point I was looking at the skyline and saw the sears towers. Then there were these other buildings that were white with big black windows that kinda bubbled out. The buildings were some sort of ride. they would sink down into the sidewalk and basically go underwater and the people inside could see out the windows under the water, then the buildings would rise back up out of the side walk. It was very cool.\n",
      "=========================================\n",
      "=========================================\n",
      "A big dinner party turned into a sea voyage. Ship approaching shore. Bell rings for breakfast. A scramble to get there but delayed all along.\n",
      "=========================================\n",
      "=========================================\n",
      "On a ship. A sailboat in distress, its sail gone. We are in a Chinese. like ferry boat.\n",
      "=========================================\n",
      "=========================================\n",
      "I was returning from the coast and the boat was nearing Hawaii. Was packing suitcases. Tell the other two in my cabin of the larger staterooms in other boats. They have full length mirrors and wardrobes and beds for each. See parts of wharf passing. Someone tries to come in but they're in the wrong room. Then I catch sight of a paper cap and wonder why I have none. Then realize we had no captain's dinner. I had left my packing and return to find had pilled things in neatly. I try to puzzle out what I had done on this trip as I cannot remember any sports or anything else about it.\n",
      "=========================================\n",
      "=========================================\n",
      "So I could go along on the tour. I ask what means of travel. Three days by steamer, three by train and three by . . . I ask how far by sea. To Trondheim. I think it will be fun to see the finished cathedral and other changes since 1939. Looking off the deck I see a steamer approaching us and aft is Diamond Head, now bluish in color but it seems to be pointing the wrong way.\n",
      "=========================================\n",
      "=========================================\n",
      "Henry Min lent me a canoe and sent me on a trip down a river that wound through a canyon. indoors.  It was like a business that he ran.  It was fun as far as it went, but it did not go very far.  During this time, Anita called me on my cell phone to find out where I was.  She seemed not to be happy.  I planned to call her a little later, but something prevented me from it.\n",
      "=========================================\n",
      "=========================================\n",
      "Trip to C. City I see modern streamlined car driving through beautiful snow. covered mountain scenery, then comes to a bend at the edge of water lake at sunset time I am watching from a very high, small window.\n",
      "=========================================\n",
      "=========================================\n",
      "In a boat on Lake Columbus . very choppy water; in a sped boat very narrowly miss airplanes as they take off from the water; the boat glides into a gas station remember sitting there and wondering about trip over the water. . Hillary has a new sink she points out that I too have a new sink Frank had moved the sink and stove on Thanksgiving Day; I had never noticed it.\n",
      "=========================================\n",
      "=========================================\n",
      "Hiners invite us on a boat ride and a thick FOG comes up I am scared; then fog clears away and we see a beautiful view and get ready for trip.\n",
      "=========================================\n",
      "=========================================\n",
      "Skiing downhill on white sand without skis, very fast downhill trip.\n",
      "=========================================\n",
      "=========================================\n",
      "There is danger of an Earthquake; I decide to postpone our trip for a day, so we will not run into danger.\n",
      "=========================================\n",
      "=========================================\n",
      "On a BICYCLE trip with WALLY and large group of people; we come to a lake. Is this Lake Genessaret? Yes Can we take the ferry across? Yes And how long does it take? About 10 minutes, or you can take a trolley around the lake and that takes a half hour. We decide to take the ferry vivid image of waves lapping at the shore. We stand in line to get our tickets and put our bikes in special stands; we have to wait and while we wait Wendy beckons me to come to eat in a nearby cafeteria. The ferry is due in about half hour.\n",
      "=========================================\n",
      "=========================================\n",
      "Pedro and Bob ? are on a trip, riding on a low. bottomed trolley car or bus, something like a hover craft. I put my hand out and can feel the sand pass by my fingers. My fingers move along and I feel the shallow water as we approach. Was there a floor or is it a shallow river? A thunderstorm threatens . big raindrops start to fall. I hear the raindrops on the roof of the trolley; we ford the stream just in time to be able to take shelter from the storm. the storm passes.\n",
      "=========================================\n",
      "=========================================\n",
      "The place was unfamiliar. It was nice, like a place for adventure, but dangerous. The characters were familiar . me, my uncle and a friend M. We were trying to climb up a very steep place in a coastal town towards the mountains. The climbing was very dangerous because as we got higher up, it became steeper. We were completely exhausted, and were able to reach a flat part, where we could rest. We felt like having something to drink or some fruit, but we realized that we had not brought anything with us. My friend and I had to decide who was going to have to go back into town, but were not able to do it.\n",
      "=========================================\n",
      "=========================================\n",
      "Night Fishing  I am fishing in my boat. It is nighttime, maybe very early morning. The stars and moon are brilliant, and the horizon is a pink glow from the rising sun. I do not have any lights on my boat. I know I've been to the lake before, but I cannot put a name on it. The shape of the lake was odd. The lake was calm. I am trolling backwards to my fishing destination. My hands dangle off the back of the boat, and I am holding a tube of Clearasil. I drop it, but it floats. I turn the boat around to pick it up. A big bass jumps ahead of me and to the right. I see it. It was floating near the surface of the water, looking almost dead. Its head was near the surface and its tail submerged. I trolled over it. It was a monster largemouth bass, at least 10 pounds, absolutely huge! I was going to reach in and grab it by the mouth, but I did not and it swam away. I am then in a stream with clear shallow water, and it is daytime. I'm trying to hit the fish with an oar to kill it, but it quickly swims away.\n",
      "=========================================\n",
      "=========================================\n",
      "Blue Boat Woman  I'm in the Big Resort Area with four people, including my friends Beth Mock and Tim Zelling. We have scuba gear and may be scuba diving. There is a woman in a sky blue motorboat. She lives in the boat. One of the men we are with wants to go slow on our trip. The weather is nice. I say okay it's a nice day, we'll go at a leisurely pace. My uncle Rusty Redding's canoe starts to leak. There are two others in it with me. I flip off the end of it and tell Tim to start bailing. The front of the canoe bends, and Tim tries to collect the water and bail it quickly.\n",
      "=========================================\n",
      "=========================================\n",
      "Group Ski Trip  There is a group ski trip being led by Harry and Lila, from Brimson. The snow is melting. The trip is planned for late winter. I see Lila ski. She is a pretty good skier. I am not as smooth as she.\n",
      "=========================================\n",
      "=========================================\n",
      "Overbearing  I'm in the Big Resort Area. I walk with two people. It's winter. We're south of Eagle Lake and east of Trout Lake. I point out Trout Mountain as we walk a snow covered peak off to our left. We'll have to walk back to Eagle Lake and then portage to Trout Lake. We walk on an ice and snow covered, plowed, road. On our left is a frozen lake with an ice fishing house on it, as well as other house and huts. We continue to walk north towards Eagle Lake. Cars drive by us on the road. I think this area has really been opened up for use, and I think it's dangerous that the roads are so icy and we're walking against oncoming cars. We continue to walk back towards our group. Our dog is with us. There are many dogs across the road from us. At first I think they may be Timberwolves, but they are not. We go past several men on snowmobiles. I have a snowmobile then, and I cruise up to the group that is walking towards us. My high school teammate Ron Lind is in the group. He has long hair. I ask my friend Kevin Simpson where to go. We decide to go to Trout Lake. We're all at the public landing at Eagle Lake. It's a beautiful day. Kevin puts a spare key for his truck inside a key holder and places it in my jeans pocket. I think this is a good idea we'll each have a key then. Kevin's watch says it's 830am. My watch says 1030am. We're heading out with a group of people new to this area rookies. I'm excited about our trip. I'm very anal retentive about the details of the trip, because I want everything to be perfect. I'm so picky I may detract from people's experience, and my own. I ask my high school classmate Tanya Simmons and another woman where they want to camp tonight on an island or around here on the shore? They say it makes no difference, but Tanya seems to hint at the shore. I suggest an island because the breeze will keep the bugs away. Our goal is to make it to Trout Lake on the first day?. I'm really excited about camping on Trout Lake. My friends Tim and Niles Zelling have a big red tent and a red tarp with. One of the women has a big puffy red sleeping bag with no stuff sack or cover for it. I say the one thing that we absolutely need is to stay dry! I make the woman walk down to Fishing Haven and buy some garbage bags. One shore, a man and his son are fishing. The boy, who is three or four, catches a nice smallmouth bass. The bass gets off the hook right near shore, and starts to flop and wriggle back into the water. My brother Wally is knee deep in the water. He grabs the fish as it tries to swim away. They have caught a two. headed fish the bodies of two fish are connected at the tails. The fish is going to die. I try to revive it. It is a white platypus. like fish at one end and a smallmouth bass or a northern pike at the other end. I cannot revive the fish. I think of getting my knife, to cut the tails and save one of the two fish, but they cannot be revived. I'm meticulous and anal retentive about all the details and everyone's packing. I want everyone to have a good trip, and am looking out for those who have not experienced this before. I realize I may be overbearing.\n",
      "=========================================\n",
      "=========================================\n",
      "Instead of being given a life, you were given a journey across the river to the other side. The destination was always to get to the other side. It was stupid to make any plans because the journey depended on the time of day, tides, water currents and temperature in relation to states of water solid ice, gaseous, liquid, wind currents, changing shoreline and you may as well stop and gather something there. In the journey it was impossible to tell, and irrelevant to use the something or other. No hurry. No. Dora was maybe at the somewhere, not sure. Temperature water would turn into ice. Icebergs and younger something.  I was not sure what gender I belonged to. Dora was not a fancy man. She liked things simple. Watching the water turn to ice. Watching the small icebergs sink just a few inches to watch the water displacement though the journey was only to the other side with flips to, not sure, maybe tolenburg? There was no need to hurry.\n",
      "=========================================\n",
      "=========================================\n",
      "I was taking a canoe trip in the wild parts of Canada with two other people, Leonard and George , Leonard being a man of about 35 or 40 with whom I did take a couple of canoe trips in Canada a number of years ago when I was in the Explorer Scouts, and George being a friend of mine from high school, about the same age as me, although I have not seen him in a number of years. In the first part of this trip we were climbing a small mountain, just Leonard and I were climbing it. George did not want to climb because it was a very dangerous climb where one of us would have to grab onto some handholds and then the other person would have to climb over the person and grab on himself and so on, continuously climbing over each other in order to get up. I remember being at one place trying to get some handholds that were sturdy and not being able to for several minutes. I was slipping, but I finally grabbed on and Leonard climbed on up over me and then he was at the top, and I climbed up with him and we sat on the top of this mountain, which was a pretty sharp point with just a couple of places that we could straddle. We looked around over the lakes below and mountains off in the distance. Then we climbed back down, which seemed to take place very quickly. The three of us were sort of planning our trip, looking at some maps of the area. Leonard was showing us where we were now and where we would be going. I had some topographical maps of my own which I pulled out of my pocket, or rather out of my knapsack, and I was marking down where we were with some numbers to locate where our next designation would be. Just a comment here these maps remind me very much of a map I looked at yesterday in a state park we were in. So I was kind of worried a little bit with George being on the trip because I thought he had never been canoeing before to speak of, and this was going to be a pretty rough trip. And I was not sure he would be able to take this continuous paddling all the time. Then with us actually starting on our trip, it seems that instead of getting into some canoes, we were on a platform and we got on a train that was our own train. My recall of things gets rather hazy at this point, but it seems we had gotten off the train again without having gone anywhere on it. The three of us went to the bathroom in the basement of this building, which seems to be a college building. Then we came back up and got on the train again. Then somehow there were some Chinese people, or somebody like Chiang Kai Shek or something, involved in the dream and maybe some spies or something, and I really do not recall just what happened.\n",
      "=========================================\n",
      "=========================================\n",
      "I was on a camping trip with my mom, my dad, Bryce, Laura, and Bryce's girlfriend.  We were all sleeping in a tent that was on a big rock in the middle of the river.  I got up, and got in the water, and a big piece of prickly seaweed got stuck to my foot, and it hurt a lot.  While I was trying to get the seaweed off, Bryce and his girlfriend got into a canoe and started canoeing down the river.  I said goodbye, and he said Just leave us alone, ok.  Tell your mom I will not be back until dinner.  Then, me and Laura started swimming towards the land, and Laura got taken by the current and got thrown over a waterfall.  I got to the land, and my parents were there barbecuing.\n",
      "=========================================\n",
      "=========================================\n",
      "Someone wanted to play Art Voyage. I was going to play it and the party wanted to play it himself, so I said, I will let you play it yourself. I am not sure of the Art in front of it, but the voyage I'm sure of.\n",
      "=========================================\n",
      "=========================================\n",
      "26. Going on a trip in India . went back to airport to pick up my suitcase. Later swimming in a pool in Green Building. Courtyard too noisy . had to leave so Srila Ramesvara could take rest . then went to use pool next door. Bharata made some prasadam with cantaloupe and salad.\n",
      "=========================================\n",
      "=========================================\n",
      "216. On fish. poisoning trip with deceased brothers. Killed many small fish together.\n",
      "=========================================\n",
      "=========================================\n",
      "211. Returned from fishing trip with big catch. All villagers rejoice on his return.\n",
      "=========================================\n",
      "=========================================\n",
      "195. Working on fish poisoning expedition.\n",
      "=========================================\n",
      "=========================================\n",
      "I am on some kind of adventure trip with Marlon and Shanee. We're traveling around in a bus at the moment. Marlon's talking about not knowing what he wants to do on Superbowl Sunday, and I'm talking about how I can cook for him if he'd like. I feel like he's giving me a lot of affectionate cuddles and kisses on my cheek, while Shanee crawls around on the bus. He seems to care about me a lot. We end up having a swim down a river quickly for some urgent reason. Marlon gets right in and speeds away. Shanee follows behind me only more slowly. I have a life jacket on and am struggling swimming around and keeping afloat on the floaties which, I guess is why I have on the vest. I accidentally wake up an alligator in the river. I am freaking out trying to escape and warn the others by asking Does not NYC have no more alligators? We have to beat them off as we swim along the dirty, murky water.\n",
      "=========================================\n",
      "=========================================\n",
      "Cath and I were on a going on a canoe trip with a large group of friends and friendly people. It was to be a bit of a journey and everyone seemed to plan on sleeping in their canoes which would be transformed into floating tents by means of fabric on tree limbs while tied to the bank. We seemed to be in this distorted dreamed. up Harrison, OH which I've dreamed of many times. It's pretty much the same as in reality besides there being more wilderness regions and an even larger trailer park community along some hills and rivers. Cath and I also ended up going to a McDonaldsBurger King.\n",
      "=========================================\n",
      "=========================================\n",
      "Jer and I are taking our anniversary vacation. We drive down to California where we have a peak in mind to climb. Only I forgot all our essentials . useful books, maps, etc. There does not seem to be much snow, but we know there will be more further back. We stop and find a bookstore to read more about ideas and routes. It is then I realize we do not have any gear either . no trek poles, ice axes, helmets or crampons. I am upset because I have ruined the trip.\n",
      "=========================================\n",
      "=========================================\n",
      "I had been waiting to sail all day. There was a black guy who was supposed to be getting the boat ready, but he kept screwing around. He'd say just a minute, and go smoke a bowl, then dick around some more. Finally it was 11pm and we were about to get rolling, but the sky was dim and there were big waves. I was really pissed that he wasted our sailing time.\n",
      "=========================================\n",
      "=========================================\n",
      "i went to the island for a quick trip. the only person i saw that i knew was dave reynolds. gibby sorrel was on the boat going over though. dave told me they had found something in a bog so there was lots of research on that.\n",
      "=========================================\n",
      "=========================================\n",
      ". It is just after sunset but there still ambient light in the sky. I am standing on the docks of a port along the river. A large cruise ship that is also an airplane flies overhead and banks toward us. The cruise shipairplane has large windows and we can easily see the passengers sitting on couches facing out toward the windows. Some of the passengers wave to us as they approach and land at the port. There is one guy in the plane though that seems to be a bit disgruntled and he either flips us off or gives us the shove. it sign. He was wearing a black work out suit. What is his problem? Oh well, no big deal. I'm aware that after it landed it is almost our turn to go. I vaguely remember a female tour guide standing on the docks.\n",
      "=========================================\n",
      "=========================================\n",
      "A team of us is packing everything for storage, for travel. We use string to fix it onto something that looks like a huge sled. I get pedantic. I collect crumbs and minute odds and ends. I have attachment to the objects and the process. We look at pictures in which bikini. clad couples take water bicycles, like zip. lines across a lagoon and to a private beach, with the caption, would not that be nice.\n",
      "=========================================\n",
      "=========================================\n",
      "I am a ship in a river, with others like our dance yesterday. We sail through ice and trash, waves rock. We are confused about the thickness of the water until we realize it is the debris of plastic living.  It is night and I am visiting friends in a seaside house. Their kitchen window opens onto the bay, where I watch boats and ships. We are several in the kitchen and I push to be closer to the window, then back out apologizing for my rude behavior. I wanted to see the ship that was just moving out of the bay. a building on the water, like a house, I think to myself and see a glass back window a living room, couch and lamp.\n",
      "=========================================\n",
      "=========================================\n",
      "I was chosen to go on an experiment where we had to travel around the world digging holes and putting water into them and we were in a huge RV. Most of the time I'm on top of the RV enjoying the wind and air. There are times when the RV has to be driven over a cliff and its so exciting and we always land because our driver is that experience. Our driver is one of Val's neighbors, I cannot remember her name. Most of the time we're traveling through icy weather and I remember being very sad as our journey was coming to an end.\n",
      "=========================================\n",
      "=========================================\n",
      "I'm trying to get home, wherever that is, and there's a big storm. The storm lets up for a bit, so Dad tells us all because there's quite a few of us and it's not Mom and Lisa that NOW is the time to go while the weather takes a break. We get into this white van and start driving. The weather seems fine. We get to a place in the road and these two guys come to the back of the van and give us all life. jackets. This gets me scared. They tell us the river is really high and there's lots of flooding. The van will not be able to make it through. Eventually, we get to that part of the trip. The water is running really high, way above my head. I'm weirdly confident that we can make it through the currents. I'm not as afraid as I probably should be.\n",
      "=========================================\n",
      "=========================================\n",
      "Mom, Heather and I had made reservations to go to to a restaurant for dinner that was hosted by LMFAO but we got there way too early and had to wait until the restaurant opened. We took a monorail and passed next to the border between Disney' Magic and Universal Studios' Islands of Adventure. It was weird seeing the two theme parks so close together. I also noted that the fence to get into Magic Kingdom was significantly higher than the fence to get into Islands of Adventure, and that it would probably be easy to sneak in there. After the short monorail ride we arrived at the mall and we were sitting in one of the atriums and a girl Heather called Victoria started rubbing my feet and legs. She gave me a really great massage of my legs and feet but when I went to give her one in return she squeaked and ran off.\n",
      "=========================================\n",
      "=========================================\n",
      "I went to Universal and Islands of Adventure and then went through a side door that led into Galaxy Skateway and I saw Tony and David and skated a bit. Then I went back to Islands of Adventure and rode the Hulk Coaster\n",
      "=========================================\n",
      "=========================================\n",
      "I was leaving Winnipeg on foot and wandered into some trees, looking for adventure. There were a lot of people walking around, some laying on the ground, possibly dead. I felt somewhat I unsafe but enjoyed the walk and the nature.\n",
      "=========================================\n",
      "=========================================\n",
      "Trip. In shower room alone getting ready to shower no bathing suit but I was wondering where everybody was. We were at the beach together and I followed them in. Dane chose to change in some Rendon corner of the boys bathhouse area\n",
      "=========================================\n",
      "=========================================\n",
      "1 The first scene was a coastal beach. Three whale type fish swam up on the beach and remained there momentarily stranded. They then turned around and swam out to sea quickly. Next I found myself swimming endlessly in the ocean. No place was evident as my destination. Then I found myself riding the surf towards shore. It was an exhilarating feeling. I felt very pleased with its occurrence. I only came in on a wave once. The next moment I found myself sneaking around an island inhabited by apparently some aliens. It reminded me of James Bond on the island in Dr. No. I was with some others, but I could not recall who they were. Excited, pleasant Beach unknown\n",
      "=========================================\n",
      "=========================================\n",
      "Roommate and I on a trip in little boating community had boat training taught us what to do when our ship sank fast had tests to gather everyone on both and jump off last test my roommate and I had to test others by not being on the boat when they thought we were we dressed in wet suits and waited in the ocean for them to jump off their boat\n",
      "=========================================\n",
      "=========================================\n",
      "With some friends, we decide to take a boat trip on a river. We spend the night at the house of two girls, reading wonderful children's books instead of sleeping. The next morning everything is happening many centuries ago and seems as unreal and beautiful as in the books. We are in the 15th century. Our clothes and the boat are those of the century and the river is in the middle of a town which looks like Venice. Then we want to stop and land for a few minutes to buy books, but when we want to go back to our boat, we cannot, and find that we are surrounded by golden chairs. The building we are in looks like a bank and is made out of yellow and brown marble. But along the building, instead of a street, is the river. Some of our group stayed in the boat, and we are worried about this.\n",
      "=========================================\n",
      "=========================================\n",
      "I went to Canada on a vacation trip. On the way I met this girl and she said she was going to the same place that I was going. Somehow we both started out on this trip around Canada together. We got involved in an argument over the fish in a couple of the lakes and then the boat must have upset because we were both in the water. She seemed to have disappeared in the water. I stayed up on one of those islands always trying to find her but it seems I could never do it.\n",
      "=========================================\n",
      "=========================================\n",
      "I'm watching the ocean with a friend male. I trip and fall down a sandy slope, but manage to hold on a projection a remnant of a dead tree sticking out, so that I do not fall into the water. I think of the cold water below me and the possibility of my falling into the cold water while clambering up the sandy slopes. I feel that even if I did fall into the water I would swim but at the same time I consider the possibility of freezing in the water. However, I get safely to the top with the help of my friend.\n",
      "=========================================\n",
      "=========================================\n",
      "My mother, father and fiancee went with me on a fishing trip. We stayed at a very old house somewhere in Kentucky. The house was half over water and was owned by hicks. We went fishing by tying strings around our finger and used pickles as bait. I caught a large catfish. The hicks told us the fishing was good because they made pickles and stored them in their basement which was in the water. The fish were attracted by the smell or flavor of the pickles and always stayed near the house.\n",
      "=========================================\n",
      "=========================================\n",
      "I was on a golfing trip in Arizona with about 5 of my high school friends. We stayed in a large house in the middle of the gold course. There was a large indoor pool in the middle of the house. My friends and I played on the golf course, which all of the sudden became a combination of about 5 golf courses I have played through my life. After the round the golfing trip became a business golfing trip with everyone I work with, y boss who I have not been getting along with wrote the words in a huge poster board. 'Watch Dave make sure he stays out of trouble. '\n",
      "=========================================\n",
      "=========================================\n",
      "I was walking down a path and on both sides of the path were sand dunes. I was walking with two people and it looked like we were trying to find a place to sit. I knew ahead of time that once we found a place to sit that I would leave the two people I was walking with. I was just dropping them off, I guess. As we walked down the path, I noticed a lot of people sunbathing on the sand dunes. I commented to the people I was walking with that as we went down the path, the bathing suits I saw the women wearing were getting weirder and weirder. I said, People are just using them for show and not to swim in. During the walk I did not recognize the people I was walking with, but when we reached our destination, I recognized the mom as TV star Roseanne Barr and I was also walking with a little girl. As soon as we found a pot to sit, I left.\n",
      "=========================================\n",
      "=========================================\n",
      "I am at the top of a steep cliff, like a sand dune, about 30 or 40 feet above a beach.  The path down is very steep and covered with sand ; in some places there are roots poking through.  I have already been down it once and am with someone different this time.  I tell whoever it is to follow me.  It is necessary to run down the slope, and I have to be careful not to trip on the roots.  The sand beach at the bottom is very narrow, and part of it is part of the slant of the cliff.  It is at some body of water, perhaps an ocean.  It is night, and pretty dark, but there are quite a few people there, many of them lovers.  It feels very romantic.\n",
      "=========================================\n",
      "=========================================\n",
      "My sister and I planned a trip, but the weather was bad, so I went alone. I went to the observation platform atop the Empire State Building. It was so foggy that I could not see anything.\n",
      "=========================================\n",
      "=========================================\n",
      "I took a voyage on water and then on land.\n",
      "=========================================\n",
      "=========================================\n",
      "The first scene was a coastal beach. Three whale type fish swam up on the beach and remained there momentarily stranded. They then turned around and swam out to sea quickly. Next I found myself swimming endlessly in the ocean. No place was evident as my destination. Then I found myself riding the surf towards shore. It was an exhilarating feeling. I felt very pleased with its occurrence. I only came in on a wave once. The next moment I found myself sneaking around an island inhabited by apparently some aliens. It reminded me of James Bond on the island in Dr. No. I was with some others, but I could not recall who they were. Excited, pleasant, no color Beach unknown\n",
      "=========================================\n",
      "=========================================\n",
      "I was going to sail away on the blue ocean. My wheelchair was attached to the ship like a dingy rowboat life raft?, and I was navigating the surf, the shallows from the land to the deep blue ocean. I was aware that this was the dangerous time of the voyage. My chair was heavy and might get water logged and sink us all, but after we were on the deep water, the chair would be the important and safe power source for the ship.\n",
      "=========================================\n",
      "=========================================\n",
      "I am in a wheelchair and at some tourist attraction. I want to go down the path to see it, but everyone says, No way, you ca not. You're in a wheelchair and it is inaccessible. I look. It does look bad, but I do not give up, I go on down the road and discover another path, one I think I can do. I head down it. It is hard, gravely and dirt and curvy and steep. I slip and slide, but make it. I feel quite victorious when I arrive at the bottom. Everyone kind of stares at me, and avoids me. I go to the boat dock. Many boats come up, one at a time, and get tourists to take them to the island. I want to get on, but they cannot imagine how I could, with the wheelchair. I get in the way of a man looking for more tourists for his boat and force him to take me. I get in his tiny blue boat, but get back out because it would mean I'd travel alone. I go to a canoe shaped boat and see a seat where the invalids can lay down. I get in that, but remain seated. I think about how I'll have to leave my chair here and then decide I'll need it on the island and think it into the boat. A young Malaysian woman sits in front of me. We come by the side where the attraction is. It's hot springs, geysers and such where the people have built what look like window frames and the shapes of houses around the naturally occurring rocks and geysers. It's kind of Victorian garish. We come close to it and I reach out my hand to touch the water from the geyser. The Malaysian woman is terribly offended and grabs my hand back. I sayWhat? She says, It is for drinking, not touching! I am surprised, but hey, I did not know. She says, I was not going to say anything, seeing as how it is cultural ignorance, but. I say It's OK. I feel caught and embarrassed, and yet, how was I to know? We go on. The canoe is skinny and shallow. I wonder if the ocean waves will slop into the boat. I hang on tightly. It's a smooth ride and I wonder why I do not feel the waves. We arrive at the island and I get out and into the chair. It's a museum and I wander around kind of disappointed because it looks very American . nothing special and exotic, just American.\n",
      "=========================================\n",
      "=========================================\n",
      "080800The walk on the beach. I am at a beach parking lot. I am in my wheelchair. I see the ocean near by and want to go down to the beach. The people I'm with are busy, so I decide to brave it on my own. I am concerned I will get stuck in the sand. I find a sandy path down to the beach, take a deep breath and try it. I slide down and manage to get on the beach. I am happy. I look around and travel in circles on the beach. I see some other people get stuck in the deep sand and I decide to head back before I get stuck. I find the path which is now a stairway ladder like thing. I now have to step by step go up. I try 3 different times and fall back down. Then I manage, precariously one step at a time. I get to the top, feeling good about making it. I turn and look at the ocean again. It is now swirling up to where it was. I am glad I got out of there in time.\n",
      "=========================================\n",
      "=========================================\n",
      "I was working on making a ball for Gary and Jen who were going to go away on a long boat ride. I cut out a circular piece of cardboard and glued a piece of green paper on it. It was going to have to stay dry though so I was going to fold it into a plastic bag. I went on to the boat and decided to take the trip with them. The ship was huge and as we were going out, Jen and I hung off the front of the boat. The water was super calm and almost looked dusty. There was a dusty film on top. We were holding onto the boat without any effort whatsoever. Our feet were resting on the water as if it was a floor. I looked ahead and saw a wave. The boat went up with the wave and then down and my legs got wet underwater. The waves got bigger and bigger . then absolutely huge. As one wave crashed into the boat I was underwater for a few seconds.  Something about my mom getting about 20 CD's from these guys in a band. Gary and Jen  two people I worked with\n",
      "=========================================\n",
      "=========================================\n",
      "We were going on a class field trip to a big lake where Melissa, our science teacher, would teach us about the different rocks. We started looking where the really smooth sand was. We found some really cool rocks like granite, limestone and sandstone. We found a really large piece of pumice. It fell into the lake and I ran after it. I feel in the lake and the lake turned into a river with white water. Setting On a sandy area by a lake, and a rushing river. Characters My science teacher, Melissa; my classmates Helen, Jean, Arlie, Marisa, Jessica, Rochelle, Cara, Lydia, Amy and my two friends Ellie and Starla. Feelings and Thoughts Scared, excited. I was really excited when we found the really big piece of pumice, but when I feel in a river I was scared.\n",
      "=========================================\n",
      "=========================================\n",
      "Some vague dream about my husband and I camping.  We wanted to go riding one day, up to the falls, even though it was late August and the water was drying up. We saw a couple of ropes stretched between the two cliffs above the falls, and finally realized when I saw a man sitting on it this man sort of flew off into space that it was a bridge and our mule trip would go over it. This was sort of frightening and I did not know if I really wanted to go.\n",
      "=========================================\n",
      "=========================================\n",
      "Myself and several of my friends Terry, Ralph, Reece, Saul, Tyler and my brother, as well as celebrity chef Jaime Oliver are on a stag. do in a tropical jungle. We're staying in a hostel or a hotel. People are complaining about the hot temperature, but it does not seem that bad to me. Ralph and others keep warning about giant insects but I have not seen any. The highlight of the trip is a 'jump' from the top of a very high hill, which slopes downwards gradually until it falls away allowing free fall. Somehow we can control our jump just with our arms and 'fly', which means we can stay off the ground by gliding, as if we were flying hand. gliders. Ralph is very accomplished at this technique and leads the group, flying the furthest. I follow just behind. Some of the others especially Terry struggle.\n",
      "=========================================\n",
      "=========================================\n",
      "A big dinner party turned into a sea voyage. Ship approaching shore. Bell rings for breakfast. A scramble to get there but delayed all along.\n",
      "=========================================\n",
      "=========================================\n",
      "On a ship. A sailboat in distress, its sail gone. We are in a Chinese. like ferry boat.\n",
      "=========================================\n",
      "=========================================\n",
      "I was returning from the coast and the boat was nearing Hawaii. Was packing suitcases. Tell the other two in my cabin of the larger staterooms in other boats. They have full length mirrors and wardrobes and beds for each. See parts of wharf passing. Someone tries to come in but they're in the wrong room. Then I catch sight of a paper cap and wonder why I have none. Then realize we had no captain's dinner. I had left my packing and return to find had pilled things in neatly. I try to puzzle out what I had done on this trip as I cannot remember any sports or anything else about it.\n",
      "=========================================\n",
      "=========================================\n",
      "So I could go along on the tour. I ask what means of travel. Three days by steamer, three by train and three by . . . I ask how far by sea. To Trondheim. I think it will be fun to see the finished cathedral and other changes since 1939. Looking off the deck I see a steamer approaching us and aft is Diamond Head, now bluish in color but it seems to be pointing the wrong way.\n",
      "=========================================\n",
      "=========================================\n",
      "Henry Min lent me a canoe and sent me on a trip down a river that wound through a canyon. indoors.  It was like a business that he ran.  It was fun as far as it went, but it did not go very far.  During this time, Anita called me on my cell phone to find out where I was.  She seemed not to be happy.  I planned to call her a little later, but something prevented me from it.\n",
      "=========================================\n",
      "=========================================\n",
      "Trip to C. City I see modern streamlined car driving through beautiful snow. covered mountain scenery, then comes to a bend at the edge of water lake at sunset time I am watching from a very high, small window.\n",
      "=========================================\n",
      "=========================================\n",
      "In a boat on Lake Columbus . very choppy water; in a sped boat very narrowly miss airplanes as they take off from the water; the boat glides into a gas station remember sitting there and wondering about trip over the water. . Hillary has a new sink she points out that I too have a new sink Frank had moved the sink and stove on Thanksgiving Day; I had never noticed it.\n",
      "=========================================\n",
      "=========================================\n",
      "Hiners invite us on a boat ride and a thick FOG comes up I am scared; then fog clears away and we see a beautiful view and get ready for trip.\n",
      "=========================================\n",
      "=========================================\n",
      "Skiing downhill on white sand without skis, very fast downhill trip.\n",
      "=========================================\n",
      "=========================================\n",
      "There is danger of an Earthquake; I decide to postpone our trip for a day, so we will not run into danger.\n",
      "=========================================\n",
      "=========================================\n",
      "On a BICYCLE trip with WALLY and large group of people; we come to a lake. Is this Lake Genessaret? Yes Can we take the ferry across? Yes And how long does it take? About 10 minutes, or you can take a trolley around the lake and that takes a half hour. We decide to take the ferry vivid image of waves lapping at the shore. We stand in line to get our tickets and put our bikes in special stands; we have to wait and while we wait Wendy beckons me to come to eat in a nearby cafeteria. The ferry is due in about half hour.\n",
      "=========================================\n",
      "=========================================\n",
      "Pedro and Bob ? are on a trip, riding on a low. bottomed trolley car or bus, something like a hover craft. I put my hand out and can feel the sand pass by my fingers. My fingers move along and I feel the shallow water as we approach. Was there a floor or is it a shallow river? A thunderstorm threatens . big raindrops start to fall. I hear the raindrops on the roof of the trolley; we ford the stream just in time to be able to take shelter from the storm. the storm passes.\n",
      "=========================================\n",
      "=========================================\n",
      "The place was unfamiliar. It was nice, like a place for adventure, but dangerous. The characters were familiar . me, my uncle and a friend M. We were trying to climb up a very steep place in a coastal town towards the mountains. The climbing was very dangerous because as we got higher up, it became steeper. We were completely exhausted, and were able to reach a flat part, where we could rest. We felt like having something to drink or some fruit, but we realized that we had not brought anything with us. My friend and I had to decide who was going to have to go back into town, but were not able to do it.\n",
      "=========================================\n",
      "=========================================\n",
      "Night Fishing  I am fishing in my boat. It is nighttime, maybe very early morning. The stars and moon are brilliant, and the horizon is a pink glow from the rising sun. I do not have any lights on my boat. I know I've been to the lake before, but I cannot put a name on it. The shape of the lake was odd. The lake was calm. I am trolling backwards to my fishing destination. My hands dangle off the back of the boat, and I am holding a tube of Clearasil. I drop it, but it floats. I turn the boat around to pick it up. A big bass jumps ahead of me and to the right. I see it. It was floating near the surface of the water, looking almost dead. Its head was near the surface and its tail submerged. I trolled over it. It was a monster largemouth bass, at least 10 pounds, absolutely huge! I was going to reach in and grab it by the mouth, but I did not and it swam away. I am then in a stream with clear shallow water, and it is daytime. I'm trying to hit the fish with an oar to kill it, but it quickly swims away.\n",
      "=========================================\n",
      "=========================================\n",
      "Blue Boat Woman  I'm in the Big Resort Area with four people, including my friends Beth Mock and Tim Zelling. We have scuba gear and may be scuba diving. There is a woman in a sky blue motorboat. She lives in the boat. One of the men we are with wants to go slow on our trip. The weather is nice. I say okay it's a nice day, we'll go at a leisurely pace. My uncle Rusty Redding's canoe starts to leak. There are two others in it with me. I flip off the end of it and tell Tim to start bailing. The front of the canoe bends, and Tim tries to collect the water and bail it quickly.\n",
      "=========================================\n",
      "=========================================\n",
      "Group Ski Trip  There is a group ski trip being led by Harry and Lila, from Brimson. The snow is melting. The trip is planned for late winter. I see Lila ski. She is a pretty good skier. I am not as smooth as she.\n",
      "=========================================\n",
      "=========================================\n",
      "Overbearing  I'm in the Big Resort Area. I walk with two people. It's winter. We're south of Eagle Lake and east of Trout Lake. I point out Trout Mountain as we walk a snow covered peak off to our left. We'll have to walk back to Eagle Lake and then portage to Trout Lake. We walk on an ice and snow covered, plowed, road. On our left is a frozen lake with an ice fishing house on it, as well as other house and huts. We continue to walk north towards Eagle Lake. Cars drive by us on the road. I think this area has really been opened up for use, and I think it's dangerous that the roads are so icy and we're walking against oncoming cars. We continue to walk back towards our group. Our dog is with us. There are many dogs across the road from us. At first I think they may be Timberwolves, but they are not. We go past several men on snowmobiles. I have a snowmobile then, and I cruise up to the group that is walking towards us. My high school teammate Ron Lind is in the group. He has long hair. I ask my friend Kevin Simpson where to go. We decide to go to Trout Lake. We're all at the public landing at Eagle Lake. It's a beautiful day. Kevin puts a spare key for his truck inside a key holder and places it in my jeans pocket. I think this is a good idea we'll each have a key then. Kevin's watch says it's 830am. My watch says 1030am. We're heading out with a group of people new to this area rookies. I'm excited about our trip. I'm very anal retentive about the details of the trip, because I want everything to be perfect. I'm so picky I may detract from people's experience, and my own. I ask my high school classmate Tanya Simmons and another woman where they want to camp tonight on an island or around here on the shore? They say it makes no difference, but Tanya seems to hint at the shore. I suggest an island because the breeze will keep the bugs away. Our goal is to make it to Trout Lake on the first day?. I'm really excited about camping on Trout Lake. My friends Tim and Niles Zelling have a big red tent and a red tarp with. One of the women has a big puffy red sleeping bag with no stuff sack or cover for it. I say the one thing that we absolutely need is to stay dry! I make the woman walk down to Fishing Haven and buy some garbage bags. One shore, a man and his son are fishing. The boy, who is three or four, catches a nice smallmouth bass. The bass gets off the hook right near shore, and starts to flop and wriggle back into the water. My brother Wally is knee deep in the water. He grabs the fish as it tries to swim away. They have caught a two. headed fish the bodies of two fish are connected at the tails. The fish is going to die. I try to revive it. It is a white platypus. like fish at one end and a smallmouth bass or a northern pike at the other end. I cannot revive the fish. I think of getting my knife, to cut the tails and save one of the two fish, but they cannot be revived. I'm meticulous and anal retentive about all the details and everyone's packing. I want everyone to have a good trip, and am looking out for those who have not experienced this before. I realize I may be overbearing.\n",
      "=========================================\n",
      "=========================================\n",
      "Instead of being given a life, you were given a journey across the river to the other side. The destination was always to get to the other side. It was stupid to make any plans because the journey depended on the time of day, tides, water currents and temperature in relation to states of water solid ice, gaseous, liquid, wind currents, changing shoreline and you may as well stop and gather something there. In the journey it was impossible to tell, and irrelevant to use the something or other. No hurry. No. Dora was maybe at the somewhere, not sure. Temperature water would turn into ice. Icebergs and younger something.  I was not sure what gender I belonged to. Dora was not a fancy man. She liked things simple. Watching the water turn to ice. Watching the small icebergs sink just a few inches to watch the water displacement though the journey was only to the other side with flips to, not sure, maybe tolenburg? There was no need to hurry.\n",
      "=========================================\n",
      "=========================================\n",
      "I was taking a canoe trip in the wild parts of Canada with two other people, Leonard and George , Leonard being a man of about 35 or 40 with whom I did take a couple of canoe trips in Canada a number of years ago when I was in the Explorer Scouts, and George being a friend of mine from high school, about the same age as me, although I have not seen him in a number of years. In the first part of this trip we were climbing a small mountain, just Leonard and I were climbing it. George did not want to climb because it was a very dangerous climb where one of us would have to grab onto some handholds and then the other person would have to climb over the person and grab on himself and so on, continuously climbing over each other in order to get up. I remember being at one place trying to get some handholds that were sturdy and not being able to for several minutes. I was slipping, but I finally grabbed on and Leonard climbed on up over me and then he was at the top, and I climbed up with him and we sat on the top of this mountain, which was a pretty sharp point with just a couple of places that we could straddle. We looked around over the lakes below and mountains off in the distance. Then we climbed back down, which seemed to take place very quickly. The three of us were sort of planning our trip, looking at some maps of the area. Leonard was showing us where we were now and where we would be going. I had some topographical maps of my own which I pulled out of my pocket, or rather out of my knapsack, and I was marking down where we were with some numbers to locate where our next designation would be. Just a comment here these maps remind me very much of a map I looked at yesterday in a state park we were in. So I was kind of worried a little bit with George being on the trip because I thought he had never been canoeing before to speak of, and this was going to be a pretty rough trip. And I was not sure he would be able to take this continuous paddling all the time. Then with us actually starting on our trip, it seems that instead of getting into some canoes, we were on a platform and we got on a train that was our own train. My recall of things gets rather hazy at this point, but it seems we had gotten off the train again without having gone anywhere on it. The three of us went to the bathroom in the basement of this building, which seems to be a college building. Then we came back up and got on the train again. Then somehow there were some Chinese people, or somebody like Chiang Kai Shek or something, involved in the dream and maybe some spies or something, and I really do not recall just what happened.\n",
      "=========================================\n",
      "=========================================\n",
      "I was on a camping trip with my mom, my dad, Bryce, Laura, and Bryce's girlfriend.  We were all sleeping in a tent that was on a big rock in the middle of the river.  I got up, and got in the water, and a big piece of prickly seaweed got stuck to my foot, and it hurt a lot.  While I was trying to get the seaweed off, Bryce and his girlfriend got into a canoe and started canoeing down the river.  I said goodbye, and he said Just leave us alone, ok.  Tell your mom I will not be back until dinner.  Then, me and Laura started swimming towards the land, and Laura got taken by the current and got thrown over a waterfall.  I got to the land, and my parents were there barbecuing.\n",
      "=========================================\n",
      "=========================================\n",
      "Someone wanted to play Art Voyage. I was going to play it and the party wanted to play it himself, so I said, I will let you play it yourself. I am not sure of the Art in front of it, but the voyage I'm sure of.\n",
      "=========================================\n",
      "=========================================\n"
     ]
    }
   ],
   "source": [
    "for i in range(len(kmeans2.labels_)):\n",
    "    if kmeans2.labels_[i]==2:\n",
    "        if len(messages_2[i])<10000:\n",
    "            print messages_2[i]\n",
    "            print \"=========================================\"\n",
    "            print \"=========================================\""
   ]
  },
  {
   "cell_type": "code",
   "execution_count": 135,
   "metadata": {},
   "outputs": [
    {
     "name": "stdout",
     "output_type": "stream",
     "text": [
      "('k: ', 1)\n",
      "('k: ', 2)\n",
      "('k: ', 3)\n",
      "('k: ', 4)\n",
      "('k: ', 5)\n",
      "('k: ', 6)\n",
      "('k: ', 7)\n",
      "('k: ', 8)\n",
      "('k: ', 9)\n",
      "('k: ', 10)\n",
      "('k: ', 11)\n",
      "('k: ', 12)\n",
      "('k: ', 13)\n",
      "('k: ', 14)\n",
      "('k: ', 15)\n",
      "('k: ', 16)\n",
      "('k: ', 17)\n",
      "('k: ', 18)\n",
      "('k: ', 19)\n",
      "('k: ', 20)\n",
      "('k: ', 21)\n",
      "('k: ', 22)\n",
      "('k: ', 23)\n",
      "('k: ', 24)\n",
      "('k: ', 25)\n",
      "('k: ', 26)\n",
      "('k: ', 27)\n",
      "('k: ', 28)\n",
      "('k: ', 29)\n",
      "('k: ', 30)\n",
      "('k: ', 31)\n",
      "('k: ', 32)\n",
      "('k: ', 33)\n",
      "('k: ', 34)\n",
      "('k: ', 35)\n",
      "('k: ', 36)\n",
      "('k: ', 37)\n",
      "('k: ', 38)\n",
      "('k: ', 39)\n",
      "('k: ', 40)\n",
      "('k: ', 41)\n",
      "('k: ', 42)\n",
      "('k: ', 43)\n",
      "('k: ', 44)\n",
      "('k: ', 45)\n",
      "('k: ', 46)\n",
      "('k: ', 47)\n",
      "('k: ', 48)\n",
      "('k: ', 49)\n"
     ]
    },
    {
     "data": {
      "image/png": "[encoded data removed]",
      "text/plain": [
       "<matplotlib.figure.Figure at 0x1a4e91b290>"
      ]
     },
     "metadata": {},
     "output_type": "display_data"
    }
   ],
   "source": [
    "elbow_plot(embeddings_whole_2, maxK=50)"
   ]
  },
  {
   "cell_type": "markdown",
   "metadata": {},
   "source": [
    "# Now let's try sentence wise:\n"
   ]
  },
  {
   "cell_type": "code",
   "execution_count": 143,
   "metadata": {},
   "outputs": [],
   "source": [
    "all_sent = []\n",
    "label=[]\n",
    "for i, row in mains.iterrows(): # should change for all data\n",
    "    t_orig = row['text']\n",
    "    t_orig = t_orig.replace(\"(\",\"\")\n",
    "    t_orig = t_orig.replace(\")\",\"\")\n",
    "    t_orig = t_orig.replace(\"\\n\",\".\")\n",
    "    t_orig = clean_sent(t_orig)\n",
    "    t_sentences = sent_tokenize(t_orig)\n",
    "    for t_ind, t in enumerate(t_sentences):\n",
    "        label.append(i)\n",
    "        all_sent.append(t) \n",
    "\n",
    "        "
   ]
  },
  {
   "cell_type": "code",
   "execution_count": 149,
   "metadata": {},
   "outputs": [],
   "source": [
    "tf.logging.set_verbosity(tf.logging.ERROR)\n",
    "all_sent_embedding=[]\n",
    "with tf.Session() as session:\n",
    "    session.run([tf.global_variables_initializer(), tf.tables_initializer()])\n",
    "    all_sent_embedding = session.run(embed(all_sent))"
   ]
  },
  {
   "cell_type": "code",
   "execution_count": null,
   "metadata": {},
   "outputs": [],
   "source": [
    "elbow_plot(embeddings_whole_2, maxK=50)"
   ]
  },
  {
   "cell_type": "code",
   "execution_count": 165,
   "metadata": {},
   "outputs": [
    {
     "name": "stdout",
     "output_type": "stream",
     "text": [
      "255813 255813\n"
     ]
    }
   ],
   "source": [
    "print len(all_sent_embedding), len(all_sent)\n"
   ]
  },
  {
   "cell_type": "markdown",
   "metadata": {},
   "source": [
    "Let's implement this idea: \n",
    "Give a text find the optimal number of cluster:\n",
    "fo instance:\n",
    "Based on correlation we can decide what is the situation and then use SRL."
   ]
  },
  {
   "cell_type": "code",
   "execution_count": 26,
   "metadata": {},
   "outputs": [
    {
     "name": "stdout",
     "output_type": "stream",
     "text": [
      "I was at the airport. I wanted to get something. but I did not know what. because all there was this little stuffed animals stuck together. and I did not like that. Then I saw the perfect thing. it was a little glass wolf with some pups. Then I got onto the phone. after I bought it. and we arrived in vacation state.\n"
     ]
    }
   ],
   "source": [
    "sample_text=\"I was at the airport. I wanted to get something. but I did not know what. because all there was this little stuffed animals stuck together. and I did not like that. Then I saw the perfect thing. it was a little glass wolf with some pups. Then I got onto the phone. after I bought it. and we arrived in vacation state.\"\n",
    "print sample_text"
   ]
  },
  {
   "cell_type": "code",
   "execution_count": 28,
   "metadata": {},
   "outputs": [],
   "source": [
    "t_sentences = sent_tokenize(sample_text)\n",
    "sample_embedding=[]\n",
    "with tf.Session() as session:\n",
    "    session.run([tf.global_variables_initializer(), tf.tables_initializer()])\n",
    "    sample_embedding = session.run(embed(t_sentences))"
   ]
  },
  {
   "cell_type": "code",
   "execution_count": 29,
   "metadata": {},
   "outputs": [],
   "source": [
    "message_embeddings=sample_embedding\n",
    "n=len(message_embeddings)\n",
    "for i in range(n-1):\n",
    "    message_embeddings=np.append(message_embeddings,[(message_embeddings[i]+message_embeddings[i+1])/2],axis=0)\n",
    "for i in range(n-2):\n",
    "    message_embeddings=np.append(message_embeddings,[(message_embeddings[i]+message_embeddings[i+1]+message_embeddings[i+2])/3],axis=0) "
   ]
  },
  {
   "cell_type": "code",
   "execution_count": 49,
   "metadata": {},
   "outputs": [
    {
     "name": "stdout",
     "output_type": "stream",
     "text": [
      "0.488407\n",
      "0.335827\n"
     ]
    }
   ],
   "source": [
    "print np.inner(message_embeddings[0],message_embeddings[len(sample_embedding)-1])\n",
    "print np.inner(message_embeddings[1],message_embeddings[len(sample_embedding)-1])"
   ]
  },
  {
   "cell_type": "code",
   "execution_count": 33,
   "metadata": {},
   "outputs": [
    {
     "name": "stdout",
     "output_type": "stream",
     "text": [
      "['I was at the airport.', 'I wanted to get something.', 'but I did not know what.', 'because all there was this little stuffed animals stuck together.', 'and I did not like that.', 'Then I saw the perfect thing.', 'it was a little glass wolf with some pups.', 'Then I got onto the phone.', 'after I bought it.', 'and we arrived in vacation state.']\n"
     ]
    }
   ],
   "source": [
    "print t_sentences"
   ]
  },
  {
   "cell_type": "code",
   "execution_count": 34,
   "metadata": {},
   "outputs": [
    {
     "data": {
      "text/plain": [
       "[<matplotlib.lines.Line2D at 0x1a21f75c10>]"
      ]
     },
     "execution_count": 34,
     "metadata": {},
     "output_type": "execute_result"
    },
    {
     "data": {
      "image/png": "[encoded data removed]",
      "text/plain": [
       "<matplotlib.figure.Figure at 0x1a2155fd10>"
      ]
     },
     "metadata": {},
     "output_type": "display_data"
    }
   ],
   "source": [
    "corre=[]\n",
    "n=len(sample_embedding)\n",
    "for i in range(n-1):\n",
    "    corre.append(np.inner(message_embeddings[i],message_embeddings[i+1]))\n",
    "plt.plot(corre,'o-')"
   ]
  },
  {
   "cell_type": "code",
   "execution_count": 31,
   "metadata": {},
   "outputs": [
    {
     "data": {
      "text/plain": [
       "[<matplotlib.lines.Line2D at 0x1a409ad310>]"
      ]
     },
     "execution_count": 31,
     "metadata": {},
     "output_type": "execute_result"
    },
    {
     "data": {
      "image/png": "[encoded data removed]",
      "text/plain": [
       "<matplotlib.figure.Figure at 0x1c78838410>"
      ]
     },
     "metadata": {},
     "output_type": "display_data"
    }
   ],
   "source": [
    "corre=[]\n",
    "n=len(sample_embedding)\n",
    "for i in range(n-2):\n",
    "    corre.append(np.inner(message_embeddings[i+n],message_embeddings[i+1+n]))\n",
    "plt.plot(corre,'o-')"
   ]
  },
  {
   "cell_type": "code",
   "execution_count": 32,
   "metadata": {},
   "outputs": [
    {
     "data": {
      "text/plain": [
       "[<matplotlib.lines.Line2D at 0x1a1ff70090>]"
      ]
     },
     "execution_count": 32,
     "metadata": {},
     "output_type": "execute_result"
    },
    {
     "data": {
      "image/png": "[encoded data removed]",
      "text/plain": [
       "<matplotlib.figure.Figure at 0x1a10d60b90>"
      ]
     },
     "metadata": {},
     "output_type": "display_data"
    }
   ],
   "source": [
    "corre=[]\n",
    "for i in range(n-3):\n",
    "    corre.append(np.inner(message_embeddings[i+2*n-1],message_embeddings[i+1+2*n-1]))\n",
    "plt.plot(corre,'o-')"
   ]
  },
  {
   "cell_type": "code",
   "execution_count": 222,
   "metadata": {},
   "outputs": [
    {
     "name": "stdout",
     "output_type": "stream",
     "text": [
      "The first thing I remember is being on another school trip, bringing about 3 or 4 bags of luggage, and forgetting it in the hotel. I also lost my CD's. I thought someone took them and threw them somewhere because they did not like the bands that I listened to. There were a lot of CD's lying around, but none of them were mine. Then, I realized all my CD's were in the case in my pocket.\n",
      "('k: ', 1)\n",
      "('k: ', 2)\n",
      "('k: ', 3)\n",
      "('k: ', 4)\n",
      "('k: ', 5)\n",
      "('k: ', 6)\n",
      "('k: ', 7)\n",
      "('k: ', 8)\n",
      "('k: ', 9)\n",
      "('k: ', 10)\n",
      "('k: ', 11)\n"
     ]
    },
    {
     "data": {
      "image/png": "[encoded data removed]",
      "text/plain": [
       "<matplotlib.figure.Figure at 0x1a8572c150>"
      ]
     },
     "metadata": {},
     "output_type": "display_data"
    }
   ],
   "source": [
    "index=0\n",
    "while label[index] != 18:\n",
    "    index=index+1\n",
    "for i, row in mains.iterrows(): # should change for all data\n",
    "    t_orig = row['text']\n",
    "#     print t_orig,i\n",
    "    if i==18:\n",
    "        print t_orig\n",
    "        break\n",
    "    if i>100:\n",
    "        break\n",
    "j=index\n",
    "t_sentences = sent_tokenize(t_orig)\n",
    "sample_embedding=[]\n",
    "while label[j]==18:\n",
    "    j=j+1\n",
    "    sample_embedding.append(all_sent_embedding[j])\n",
    "for i in range(len(t_sentences)-1):\n",
    "    sample_embedding.append((sample_embedding[i]+sample_embedding[i+1])/2)\n",
    "for i in range(len(t_sentences)-2):\n",
    "    sample_embedding.append((sample_embedding[i]+sample_embedding[i+1]+sample_embedding[i+2])/3)\n",
    "elbow_plot(sample_embedding, maxK=len(sample_embedding))"
   ]
  },
  {
   "cell_type": "code",
   "execution_count": null,
   "metadata": {},
   "outputs": [],
   "source": [
    "number_sample=21"
   ]
  },
  {
   "cell_type": "code",
   "execution_count": 228,
   "metadata": {},
   "outputs": [
    {
     "name": "stdout",
     "output_type": "stream",
     "text": [
      "I'm outside, and there's this animal that I think to be a fox. Then I see a little dog that had been beaten up. It looked like a black lab. Then the fox took me by surprise and threw the nearly dead dog on top of me, as if he was taking us both for dead. We were both on the ground. I thought by that by that time the dog was undoubtedly dead, but found that he was still breathing and making noise. I was furious at the fox for doing this to the poor dog. There was a car trying to get through, and I carefully moved the dog to the side of the road. I really did not think the dog would make it, and I was almost hoping for someone to put him out of his misery but I really wanted to protect the dog and was hoping that he just might be ok. I picked up the fox, who gave a good fight and had claws, but I had to get him away from the dog so he did not hurt him any more. Then I attempted to throw the fox as far as possible. In the dream, I assumed the fox to be ok anyway, and if I threw him over a fence, he might be hurt just enough so that he did not go after the dog anymore. Anyway, the fox did not go as far as I expected when I threw it, and I woke up immediately after throwing the fox.\n",
      "196\n",
      "('k: ', 1)\n",
      "('k: ', 2)\n",
      "('k: ', 3)\n",
      "('k: ', 4)\n",
      "('k: ', 5)\n",
      "('k: ', 6)\n",
      "('k: ', 7)\n",
      "('k: ', 8)\n",
      "('k: ', 9)\n",
      "('k: ', 10)\n",
      "('k: ', 11)\n",
      "('k: ', 12)\n",
      "('k: ', 13)\n",
      "('k: ', 14)\n",
      "('k: ', 15)\n",
      "('k: ', 16)\n",
      "('k: ', 17)\n",
      "('k: ', 18)\n",
      "('k: ', 19)\n",
      "('k: ', 20)\n",
      "('k: ', 21)\n",
      "('k: ', 22)\n",
      "('k: ', 23)\n",
      "('k: ', 24)\n",
      "('k: ', 25)\n",
      "('k: ', 26)\n",
      "('k: ', 27)\n",
      "('k: ', 28)\n",
      "('k: ', 29)\n",
      "('k: ', 30)\n",
      "('k: ', 31)\n",
      "('k: ', 32)\n",
      "('k: ', 33)\n",
      "('k: ', 34)\n",
      "('k: ', 35)\n"
     ]
    },
    {
     "data": {
      "image/png": "[encoded data removed]",
      "text/plain": [
       "<matplotlib.figure.Figure at 0x1a6bc59a90>"
      ]
     },
     "metadata": {},
     "output_type": "display_data"
    }
   ],
   "source": [
    "index=0\n",
    "while label[index] != number_sample:\n",
    "    index=index+1\n",
    "for i, row in mains.iterrows(): # should change for all data\n",
    "    t_orig = row['text']\n",
    "    if i==number_sample:\n",
    "        print t_orig\n",
    "        break\n",
    "    if i>100:\n",
    "        break\n",
    "print index\n",
    "j=index\n",
    "t_sentences = sent_tokenize(t_orig)\n",
    "sample_embedding=[]\n",
    "while label[j]==number_sample:\n",
    "    j=j+1\n",
    "    sample_embedding.append(all_sent_embedding[j])\n",
    "for i in range(len(t_sentences)-1):\n",
    "    sample_embedding.append((sample_embedding[i]+sample_embedding[i+1])/2)\n",
    "for i in range(len(t_sentences)-2):\n",
    "    sample_embedding.append((sample_embedding[i]+sample_embedding[i+1]+sample_embedding[i+2])/3)\n",
    "elbow_plot(sample_embedding, maxK=len(sample_embedding))"
   ]
  },
  {
   "cell_type": "code",
   "execution_count": null,
   "metadata": {
    "scrolled": false
   },
   "outputs": [],
   "source": [
    "with tf.Session() as session:\n",
    "    session.run(tf.global_variables_initializer())\n",
    "    session.run(tf.tables_initializer())\n",
    "    run_and_plot2(session, similarity_input_placeholder, messages,\n",
    "               similarity_message_encodings)"
   ]
  },
  {
   "cell_type": "code",
   "execution_count": 3,
   "metadata": {},
   "outputs": [],
   "source": [
    "def plot_similarity(labels, features, rotation):\n",
    "    corr = np.inner(features, features)\n",
    "    sns.set(font_scale=1.2)\n",
    "    g = sns.heatmap(\n",
    "      corr,\n",
    "      xticklabels=labels,\n",
    "      yticklabels=labels,\n",
    "      vmin=0,\n",
    "      vmax=1,\n",
    "      cmap=\"YlOrRd\")\n",
    "    g.set_xticklabels(labels, rotation=rotation)\n",
    "    g.set_title(\"Semantic Textual Similarity\")\n",
    "\n",
    "def run_and_plot(session_, input_tensor_, messages_, encoding_tensor):\n",
    "    message_embeddings_ = session_.run(\n",
    "    encoding_tensor, feed_dict={input_tensor_: messages_})\n",
    "    plot_similarity(messages_, message_embeddings_, 90)"
   ]
  },
  {
   "cell_type": "code",
   "execution_count": 2,
   "metadata": {},
   "outputs": [],
   "source": [
    "import matplotlib.pyplot as plt\n",
    "import numpy as np\n",
    "import os\n",
    "import pandas as pd\n",
    "import re\n",
    "import seaborn as sns"
   ]
  },
  {
   "cell_type": "code",
   "execution_count": 38,
   "metadata": {},
   "outputs": [
    {
     "data": {
      "image/png": "[encoded data removed]",
      "text/plain": [
       "<matplotlib.figure.Figure at 0x1aebdb89d0>"
      ]
     },
     "metadata": {},
     "output_type": "display_data"
    }
   ],
   "source": [
    "messages = [\n",
    "    # Smartphones\n",
    "    \"I like my phone\",\n",
    "    \"My phone is not good.\",\n",
    "    \"Your cellphone looks great.\",\n",
    "\n",
    "    # Weather\n",
    "    \"Will it snow tomorrow?\",\n",
    "    \"Recently a lot of hurricanes have hit the US\",\n",
    "    \"Global warming is real\",\n",
    "\n",
    "    # Food and health\n",
    "    \"An apple a day, keeps the doctors away\",\n",
    "    \"Eating strawberries is healthy\",\n",
    "    \"Is paleo better than keto?\",\n",
    "\n",
    "    # Asking about age\n",
    "    \"How old are you?\",\n",
    "    \"what is your age?\",\n",
    "]\n",
    "\n",
    "similarity_input_placeholder = tf.placeholder(tf.string, shape=(None))\n",
    "similarity_message_encodings = embed(similarity_input_placeholder)\n",
    "with tf.Session() as session:\n",
    "    session.run(tf.global_variables_initializer())\n",
    "    session.run(tf.tables_initializer())\n",
    "    run_and_plot(session, similarity_input_placeholder, messages,\n",
    "               similarity_message_encodings)"
   ]
  },
  {
   "cell_type": "code",
   "execution_count": 47,
   "metadata": {},
   "outputs": [],
   "source": [
    "def plot_similarity2(labels, features, rotation):\n",
    "    corr = np.inner(features, features)\n",
    "    sns.set(font_scale=1.2)\n",
    "    g = sns.heatmap(\n",
    "      corr,\n",
    "#       xticklabels=labels,\n",
    "#       yticklabels=labels,\n",
    "      vmin=0,\n",
    "      vmax=1,\n",
    "      cmap=\"YlOrRd\")\n",
    "    g.set_xticklabels(labels, rotation=rotation)\n",
    "    g.set_title(\"Semantic Textual Similarity\")\n",
    "\n",
    "def run_and_plot2(session_, input_tensor_, messages_, encoding_tensor):\n",
    "    message_embeddings_ = session_.run(\n",
    "    encoding_tensor, feed_dict={input_tensor_: messages_})\n",
    "    plot_similarity2(messages_, message_embeddings_, 90)"
   ]
  },
  {
   "cell_type": "markdown",
   "metadata": {},
   "source": [
    "# Place finder:"
   ]
  },
  {
   "cell_type": "code",
   "execution_count": null,
   "metadata": {},
   "outputs": [],
   "source": [
    "import csv\n",
    "places=[]\n",
    "f = open('places.csv', 'rb')\n",
    "reader = csv.reader(f)\n",
    "for row in reader:\n",
    "    places.append(row)\n",
    "f.close()\n",
    "tf.logging.set_verbosity(tf.logging.ERROR)\n",
    "embeddings_whole=[]\n",
    "with tf.Session() as session:\n",
    "    session.run([tf.global_variables_initializer(), tf.tables_initializer()])\n",
    "    embeddings_whole = session.run(embed(messages))"
   ]
  },
  {
   "cell_type": "code",
   "execution_count": null,
   "metadata": {},
   "outputs": [],
   "source": [
    "def findLocation(t_orig):\n",
    "    t_sentences = sent_tokenize(t_orig)\n",
    "    result=[]\n",
    "    for t_ind, t in enumerate(t_sentences):\n",
    "        t_annotated = annotator.getAnnotations(t, dep_parse=True)\n",
    "        ner=t_annotated['ner']\n",
    "        for p1,p2 in ner:\n",
    "            if p2=='S-LOC':\n",
    "                result.append(p1)\n",
    "    return result"
   ]
  }
 ],
 "metadata": {
  "kernelspec": {
   "display_name": "Python 2",
   "language": "python",
   "name": "python2"
  },
  "language_info": {
   "codemirror_mode": {
    "name": "ipython",
    "version": 2
   },
   "file_extension": ".py",
   "mimetype": "text/x-python",
   "name": "python",
   "nbconvert_exporter": "python",
   "pygments_lexer": "ipython2",
   "version": "2.7.15"
  },
  "varInspector": {
   "cols": {
    "lenName": 16,
    "lenType": 16,
    "lenVar": 40
   },
   "kernels_config": {
    "python": {
     "delete_cmd_postfix": "",
     "delete_cmd_prefix": "del ",
     "library": "var_list.py",
     "varRefreshCmd": "print(var_dic_list())"
    },
    "r": {
     "delete_cmd_postfix": ") ",
     "delete_cmd_prefix": "rm(",
     "library": "var_list.r",
     "varRefreshCmd": "cat(var_dic_list()) "
    }
   },
   "types_to_exclude": [
    "module",
    "function",
    "builtin_function_or_method",
    "instance",
    "_Feature"
   ],
   "window_display": false
  }
 },
 "nbformat": 4,
 "nbformat_minor": 2
}
